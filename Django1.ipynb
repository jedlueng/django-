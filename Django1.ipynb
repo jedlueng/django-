{
 "cells": [
  {
   "attachments": {},
   "cell_type": "markdown",
   "metadata": {},
   "source": [
    "# Jedlueng Django Learning 17 January 2023 "
   ]
  },
  {
   "attachments": {},
   "cell_type": "markdown",
   "metadata": {},
   "source": [
    "## Install Django and environment "
   ]
  },
  {
   "attachments": {},
   "cell_type": "markdown",
   "metadata": {},
   "source": [
    "Terminal \n",
    "\n",
    "#Make directory \n",
    "\n",
    "mkdir vidly \n",
    "\n",
    "#Go in vidly directory \n",
    "\n",
    "cd vidly \n",
    "\n",
    "#Install Django \n",
    "pipenv install django==2.1 \n",
    "\n",
    "#or \n",
    "pip install django "
   ]
  },
  {
   "cell_type": "code",
   "execution_count": null,
   "metadata": {},
   "outputs": [],
   "source": []
  },
  {
   "attachments": {},
   "cell_type": "markdown",
   "metadata": {},
   "source": [
    "## Start Django Project "
   ]
  },
  {
   "cell_type": "code",
   "execution_count": 2,
   "metadata": {},
   "outputs": [
    {
     "name": "stdout",
     "output_type": "stream",
     "text": [
      "Collecting django\n",
      "  Using cached Django-4.1.5-py3-none-any.whl (8.1 MB)\n",
      "Collecting asgiref<4,>=3.5.2\n",
      "  Using cached asgiref-3.6.0-py3-none-any.whl (23 kB)\n",
      "Collecting backports.zoneinfo\n",
      "  Downloading backports.zoneinfo-0.2.1-cp38-cp38-macosx_10_14_x86_64.whl (35 kB)\n",
      "Collecting sqlparse>=0.2.2\n",
      "  Using cached sqlparse-0.4.3-py3-none-any.whl (42 kB)\n",
      "Installing collected packages: sqlparse, backports.zoneinfo, asgiref, django\n",
      "Successfully installed asgiref-3.6.0 backports.zoneinfo-0.2.1 django-4.1.5 sqlparse-0.4.3\n"
     ]
    }
   ],
   "source": [
    "!pip install django "
   ]
  },
  {
   "cell_type": "code",
   "execution_count": 3,
   "metadata": {},
   "outputs": [],
   "source": [
    "import django"
   ]
  },
  {
   "cell_type": "code",
   "execution_count": 4,
   "metadata": {},
   "outputs": [
    {
     "name": "stdout",
     "output_type": "stream",
     "text": [
      "\u001b[0m"
     ]
    }
   ],
   "source": [
    "# Start a project \n",
    "!django-admin startproject vidly . \n",
    "#This will create files in admin "
   ]
  },
  {
   "attachments": {},
   "cell_type": "markdown",
   "metadata": {},
   "source": [
    "<img src=\"Image/django-admin.png\" alt=\"django-admin\" />\n"
   ]
  },
  {
   "cell_type": "code",
   "execution_count": null,
   "metadata": {},
   "outputs": [],
   "source": [
    "#manage.py == operation for the website \n",
    "\n",
    "#Image above is a package for our projects "
   ]
  },
  {
   "attachments": {},
   "cell_type": "markdown",
   "metadata": {},
   "source": [
    "### Run a server "
   ]
  },
  {
   "cell_type": "code",
   "execution_count": 11,
   "metadata": {},
   "outputs": [
    {
     "name": "stdout",
     "output_type": "stream",
     "text": [
      "Watching for file changes with StatReloader\n",
      "Performing system checks...\n",
      "\n",
      "System check identified no issues (0 silenced).\n",
      "\u001b[31m\n",
      "You have 18 unapplied migration(s). Your project may not work properly until you apply the migrations for app(s): admin, auth, contenttypes, sessions.\u001b[0m\n",
      "\u001b[31mRun 'python manage.py migrate' to apply them.\u001b[0m\n",
      "January 18, 2023 - 12:22:39\n",
      "Django version 4.1.5, using settings 'vidly.settings'\n",
      "Starting development server at http://127.0.0.1:8000/\n",
      "Quit the server with CONTROL-C.\n",
      "^C\n",
      "\u001b[0m\u001b[0m"
     ]
    }
   ],
   "source": [
    "!python3 manage.py runserver "
   ]
  },
  {
   "attachments": {},
   "cell_type": "markdown",
   "metadata": {},
   "source": [
    "# First Django Application "
   ]
  },
  {
   "attachments": {},
   "cell_type": "markdown",
   "metadata": {},
   "source": [
    "<img src=\"Image/Django-project.png\" alt=\"Django-project\" />"
   ]
  },
  {
   "attachments": {},
   "cell_type": "markdown",
   "metadata": {},
   "source": [
    "Django project consist of many application but working under one banner "
   ]
  },
  {
   "attachments": {},
   "cell_type": "markdown",
   "metadata": {},
   "source": [
    "<img src=\"Image/Project-2.png\" alt=\"Django-project\" />"
   ]
  },
  {
   "attachments": {},
   "cell_type": "markdown",
   "metadata": {},
   "source": [
    "## Create a new application "
   ]
  },
  {
   "cell_type": "code",
   "execution_count": 12,
   "metadata": {},
   "outputs": [
    {
     "name": "stdout",
     "output_type": "stream",
     "text": [
      "\u001b[0m"
     ]
    }
   ],
   "source": [
    "!python3 manage.py startapp movies \n",
    "#New directory will be created call movies \n",
    "#This is a new apps "
   ]
  },
  {
   "attachments": {},
   "cell_type": "markdown",
   "metadata": {},
   "source": [
    "<img src=\"Image/Move.png\" alt=\"Django-project\" />"
   ]
  },
  {
   "attachments": {},
   "cell_type": "markdown",
   "metadata": {},
   "source": [
    "## View function"
   ]
  },
  {
   "attachments": {},
   "cell_type": "markdown",
   "metadata": {},
   "source": [
    "<img src=\"Image/view.png\" alt=\"view.png\" />"
   ]
  },
  {
   "attachments": {},
   "cell_type": "markdown",
   "metadata": {},
   "source": [
    "view the app\n"
   ]
  },
  {
   "attachments": {},
   "cell_type": "markdown",
   "metadata": {},
   "source": [
    "<img src=\"Image/View-2.png\" alt=\"Django-project\" />"
   ]
  },
  {
   "attachments": {},
   "cell_type": "markdown",
   "metadata": {},
   "source": [
    "# Views "
   ]
  },
  {
   "cell_type": "code",
   "execution_count": null,
   "metadata": {},
   "outputs": [],
   "source": [
    "# Open view.py under movies application "
   ]
  },
  {
   "attachments": {},
   "cell_type": "markdown",
   "metadata": {},
   "source": [
    "<img src=\"Image/view-3.png\" alt=\"Django-project\" />"
   ]
  },
  {
   "attachments": {},
   "cell_type": "markdown",
   "metadata": {},
   "source": [
    "create a function that represent the main page of the application. "
   ]
  },
  {
   "attachments": {},
   "cell_type": "markdown",
   "metadata": {},
   "source": [
    "View is easily a way to mapp urls "
   ]
  },
  {
   "attachments": {},
   "cell_type": "markdown",
   "metadata": {},
   "source": [
    "** Use request in view.py >> map url for the application (urls.py) > map url for application (Urls.py on another files)"
   ]
  },
  {
   "attachments": {},
   "cell_type": "markdown",
   "metadata": {},
   "source": [
    "<img src=\"Image/url-pics-1.png\" alt=\"URL-pics-1\" />"
   ]
  },
  {
   "attachments": {},
   "cell_type": "markdown",
   "metadata": {},
   "source": [
    "THen "
   ]
  },
  {
   "attachments": {},
   "cell_type": "markdown",
   "metadata": {},
   "source": [
    "<img src=\"Image/url-pics-2.png\" alt=\"URL-pics-2\" />"
   ]
  },
  {
   "attachments": {},
   "cell_type": "markdown",
   "metadata": {},
   "source": [
    "Then "
   ]
  },
  {
   "attachments": {},
   "cell_type": "markdown",
   "metadata": {},
   "source": [
    "<img src=\"Image/url-pics-3.png\" alt=\"URL-pics-3\" />"
   ]
  },
  {
   "attachments": {},
   "cell_type": "markdown",
   "metadata": {},
   "source": [
    "## Run server to test "
   ]
  },
  {
   "cell_type": "code",
   "execution_count": 1,
   "metadata": {},
   "outputs": [
    {
     "name": "stdout",
     "output_type": "stream",
     "text": [
      "Watching for file changes with StatReloader\n",
      "Performing system checks...\n",
      "\n",
      "System check identified no issues (0 silenced).\n",
      "\u001b[31m\n",
      "You have 18 unapplied migration(s). Your project may not work properly until you apply the migrations for app(s): admin, auth, contenttypes, sessions.\u001b[0m\n",
      "\u001b[31mRun 'python manage.py migrate' to apply them.\u001b[0m\n",
      "January 19, 2023 - 13:55:24\n",
      "Django version 4.1.5, using settings 'vidly.settings'\n",
      "Starting development server at http://127.0.0.1:8000/\n",
      "Quit the server with CONTROL-C.\n",
      "^C\n"
     ]
    }
   ],
   "source": [
    "!python3 manage.py runserver"
   ]
  },
  {
   "attachments": {},
   "cell_type": "markdown",
   "metadata": {},
   "source": [
    "# Models "
   ]
  },
  {
   "attachments": {},
   "cell_type": "markdown",
   "metadata": {},
   "source": [
    "models > use to represent application data "
   ]
  },
  {
   "attachments": {},
   "cell_type": "markdown",
   "metadata": {},
   "source": [
    "> Goes to application models.py"
   ]
  },
  {
   "attachments": {},
   "cell_type": "markdown",
   "metadata": {},
   "source": [
    "<img src=\"Image/url-pics-1.png\" alt=\"URL-pics-1\" />"
   ]
  },
  {
   "attachments": {},
   "cell_type": "markdown",
   "metadata": {},
   "source": [
    "# migration "
   ]
  },
  {
   "attachments": {},
   "cell_type": "markdown",
   "metadata": {},
   "source": [
    "When you create models and application, it is not migrated yet "
   ]
  },
  {
   "attachments": {},
   "cell_type": "markdown",
   "metadata": {},
   "source": [
    "bringing the database up to date "
   ]
  },
  {
   "attachments": {},
   "cell_type": "markdown",
   "metadata": {},
   "source": [
    "sqlite "
   ]
  },
  {
   "attachments": {},
   "cell_type": "markdown",
   "metadata": {},
   "source": [
    "Migration is the way to migrate data in the database to the models application in Django "
   ]
  },
  {
   "attachments": {},
   "cell_type": "markdown",
   "metadata": {},
   "source": [
    "<img src=\"Migration.png\" alt=\"Migration\" />"
   ]
  },
  {
   "cell_type": "code",
   "execution_count": 1,
   "metadata": {},
   "outputs": [
    {
     "name": "stdout",
     "output_type": "stream",
     "text": [
      "No changes detected\n",
      "\u001b[0m"
     ]
    }
   ],
   "source": [
    "#Run a migration \n",
    "!python3 manage.py makemigrations "
   ]
  },
  {
   "attachments": {},
   "cell_type": "markdown",
   "metadata": {},
   "source": [
    "## Install movies "
   ]
  },
  {
   "attachments": {},
   "cell_type": "markdown",
   "metadata": {},
   "source": [
    "main app > setting.py "
   ]
  },
  {
   "attachments": {},
   "cell_type": "markdown",
   "metadata": {},
   "source": [
    "install_apps > add application Config (in apps.py of the app)"
   ]
  },
  {
   "attachments": {},
   "cell_type": "markdown",
   "metadata": {},
   "source": [
    "<img src=\"Image/apps.png\" alt=\"apps\" />"
   ]
  },
  {
   "attachments": {},
   "cell_type": "markdown",
   "metadata": {},
   "source": [
    "<img src=\"Image/movie-config-2.png\" alt=\"Migration\" />"
   ]
  },
  {
   "cell_type": "code",
   "execution_count": 6,
   "metadata": {},
   "outputs": [
    {
     "name": "stdout",
     "output_type": "stream",
     "text": [
      "\u001b[36;1mMigrations for 'movies':\u001b[0m\n",
      "  \u001b[1mmovies/migrations/0001_initial.py\u001b[0m\n",
      "    - Create model Genre\n",
      "    - Create model Movie\n",
      "\u001b[0m"
     ]
    }
   ],
   "source": [
    "# Make migration again \n",
    "!python3 manage.py makemigrations "
   ]
  },
  {
   "cell_type": "code",
   "execution_count": 7,
   "metadata": {},
   "outputs": [
    {
     "name": "stdout",
     "output_type": "stream",
     "text": [
      "Watching for file changes with StatReloader\n",
      "Performing system checks...\n",
      "\n",
      "System check identified no issues (0 silenced).\n",
      "\u001b[31m\n",
      "You have 19 unapplied migration(s). Your project may not work properly until you apply the migrations for app(s): admin, auth, contenttypes, movies, sessions.\u001b[0m\n",
      "\u001b[31mRun 'python manage.py migrate' to apply them.\u001b[0m\n",
      "January 20, 2023 - 07:27:53\n",
      "Django version 4.1.5, using settings 'vidly.settings'\n",
      "Starting development server at http://127.0.0.1:8000/\n",
      "Quit the server with CONTROL-C.\n",
      "^C\n",
      "\u001b[0m\u001b[0m"
     ]
    }
   ],
   "source": [
    "!python3 manage.py runserver \n",
    "# 19 Migrations "
   ]
  },
  {
   "attachments": {},
   "cell_type": "markdown",
   "metadata": {},
   "source": [
    "## All migrate "
   ]
  },
  {
   "cell_type": "code",
   "execution_count": 8,
   "metadata": {},
   "outputs": [
    {
     "name": "stdout",
     "output_type": "stream",
     "text": [
      "\u001b[36;1mOperations to perform:\u001b[0m\n",
      "\u001b[1m  Apply all migrations: \u001b[0madmin, auth, contenttypes, movies, sessions\n",
      "\u001b[36;1mRunning migrations:\u001b[0m\n",
      "  Applying contenttypes.0001_initial...\u001b[32;1m OK\u001b[0m\n",
      "  Applying auth.0001_initial...\u001b[32;1m OK\u001b[0m\n",
      "  Applying admin.0001_initial...\u001b[32;1m OK\u001b[0m\n",
      "  Applying admin.0002_logentry_remove_auto_add...\u001b[32;1m OK\u001b[0m\n",
      "  Applying admin.0003_logentry_add_action_flag_choices...\u001b[32;1m OK\u001b[0m\n",
      "  Applying contenttypes.0002_remove_content_type_name...\u001b[32;1m OK\u001b[0m\n",
      "  Applying auth.0002_alter_permission_name_max_length...\u001b[32;1m OK\u001b[0m\n",
      "  Applying auth.0003_alter_user_email_max_length...\u001b[32;1m OK\u001b[0m\n",
      "  Applying auth.0004_alter_user_username_opts...\u001b[32;1m OK\u001b[0m\n",
      "  Applying auth.0005_alter_user_last_login_null...\u001b[32;1m OK\u001b[0m\n",
      "  Applying auth.0006_require_contenttypes_0002...\u001b[32;1m OK\u001b[0m\n",
      "  Applying auth.0007_alter_validators_add_error_messages...\u001b[32;1m OK\u001b[0m\n",
      "  Applying auth.0008_alter_user_username_max_length...\u001b[32;1m OK\u001b[0m\n",
      "  Applying auth.0009_alter_user_last_name_max_length...\u001b[32;1m OK\u001b[0m\n",
      "  Applying auth.0010_alter_group_name_max_length...\u001b[32;1m OK\u001b[0m\n",
      "  Applying auth.0011_update_proxy_permissions...\u001b[32;1m OK\u001b[0m\n",
      "  Applying auth.0012_alter_user_first_name_max_length...\u001b[32;1m OK\u001b[0m\n",
      "  Applying movies.0001_initial...\u001b[32;1m OK\u001b[0m\n",
      "  Applying sessions.0001_initial...\u001b[32;1m OK\u001b[0m\n",
      "\u001b[0m"
     ]
    }
   ],
   "source": [
    "!python3 manage.py migrate \n",
    "# Now migration are all migrated \n",
    "#Including the database "
   ]
  },
  {
   "attachments": {},
   "cell_type": "markdown",
   "metadata": {},
   "source": [
    "<img src=\"SQL-3.png\" alt=\"SQL-3\" />"
   ]
  },
  {
   "attachments": {},
   "cell_type": "markdown",
   "metadata": {},
   "source": [
    "# Changing Models "
   ]
  },
  {
   "attachments": {},
   "cell_type": "markdown",
   "metadata": {},
   "source": [
    "Create a new datetime attribute \n",
    "\n",
    "App > models.py "
   ]
  },
  {
   "attachments": {},
   "cell_type": "markdown",
   "metadata": {},
   "source": [
    "<img src=\"dt.png\" alt=\"dt\" />"
   ]
  },
  {
   "cell_type": "code",
   "execution_count": 9,
   "metadata": {},
   "outputs": [
    {
     "name": "stdout",
     "output_type": "stream",
     "text": [
      "\u001b[36;1mMigrations for 'movies':\u001b[0m\n",
      "  \u001b[1mmovies/migrations/0002_movie_date_created.py\u001b[0m\n",
      "    - Add field date_created to movie\n",
      "\u001b[0m"
     ]
    }
   ],
   "source": [
    "!python3 manage.py makemigrations "
   ]
  },
  {
   "attachments": {},
   "cell_type": "markdown",
   "metadata": {},
   "source": [
    "all migration will be recorded in the migration folder in the application folder "
   ]
  },
  {
   "attachments": {},
   "cell_type": "markdown",
   "metadata": {},
   "source": [
    "Do not ever delete migration!"
   ]
  },
  {
   "attachments": {},
   "cell_type": "markdown",
   "metadata": {},
   "source": [
    "## SQL migrate command "
   ]
  },
  {
   "cell_type": "code",
   "execution_count": 10,
   "metadata": {},
   "outputs": [
    {
     "name": "stdout",
     "output_type": "stream",
     "text": [
      "usage: manage.py sqlmigrate [-h] [--database DATABASE] [--backwards]\n",
      "                            [--version] [-v {0,1,2,3}] [--settings SETTINGS]\n",
      "                            [--pythonpath PYTHONPATH] [--traceback]\n",
      "                            [--no-color] [--force-color] [--skip-checks]\n",
      "                            app_label migration_name\n",
      "manage.py sqlmigrate: error: the following arguments are required: migration_name\n",
      "\u001b[0m"
     ]
    }
   ],
   "source": [
    "!python3 manage.py sqlmigrate movies \n",
    "#show new sql database when migrate "
   ]
  },
  {
   "cell_type": "code",
   "execution_count": 12,
   "metadata": {},
   "outputs": [
    {
     "name": "stdout",
     "output_type": "stream",
     "text": [
      "BEGIN;\n",
      "--\n",
      "-- Create model Genre\n",
      "--\n",
      "CREATE TABLE \"movies_genre\" (\"id\" integer NOT NULL PRIMARY KEY AUTOINCREMENT, \"name\" varchar(255) NOT NULL);\n",
      "--\n",
      "-- Create model Movie\n",
      "--\n",
      "CREATE TABLE \"movies_movie\" (\"id\" integer NOT NULL PRIMARY KEY AUTOINCREMENT, \"title\" varchar(255) NOT NULL, \"release_year\" integer NOT NULL, \"number_in_stock\" integer NOT NULL, \"daily_rate\" real NOT NULL, \"genre_id\" bigint NOT NULL REFERENCES \"movies_genre\" (\"id\") DEFERRABLE INITIALLY DEFERRED);\n",
      "CREATE INDEX \"movies_movie_genre_id_2b557368\" ON \"movies_movie\" (\"genre_id\");\n",
      "COMMIT;\n",
      "\u001b[0m"
     ]
    }
   ],
   "source": [
    "!python3 manage.py sqlmigrate movies 0001"
   ]
  },
  {
   "attachments": {},
   "cell_type": "markdown",
   "metadata": {},
   "source": [
    "# Administration Panel "
   ]
  },
  {
   "attachments": {},
   "cell_type": "markdown",
   "metadata": {},
   "source": [
    "for people to fill in the code "
   ]
  },
  {
   "cell_type": "code",
   "execution_count": 14,
   "metadata": {},
   "outputs": [
    {
     "name": "stdout",
     "output_type": "stream",
     "text": [
      "No changes detected\n",
      "\u001b[0m"
     ]
    }
   ],
   "source": [
    "!python3 manage.py makemigrations "
   ]
  },
  {
   "cell_type": "code",
   "execution_count": 16,
   "metadata": {},
   "outputs": [
    {
     "name": "stdout",
     "output_type": "stream",
     "text": [
      "\u001b[36;1mOperations to perform:\u001b[0m\n",
      "\u001b[1m  Apply all migrations: \u001b[0madmin, auth, contenttypes, movies, sessions\n",
      "\u001b[36;1mRunning migrations:\u001b[0m\n",
      "  Applying movies.0002_movie_date_created...\u001b[32;1m OK\u001b[0m\n",
      "\u001b[0m"
     ]
    }
   ],
   "source": [
    "!python3 manage.py migrate "
   ]
  },
  {
   "cell_type": "code",
   "execution_count": 19,
   "metadata": {},
   "outputs": [
    {
     "name": "stdout",
     "output_type": "stream",
     "text": [
      "Watching for file changes with StatReloader\n",
      "Performing system checks...\n",
      "\n",
      "System check identified no issues (0 silenced).\n",
      "January 20, 2023 - 10:03:24\n",
      "Django version 4.1.5, using settings 'vidly.settings'\n",
      "Starting development server at http://127.0.0.1:8000/\n",
      "Quit the server with CONTROL-C.\n",
      "Not Found: /\n",
      "[20/Jan/2023 10:03:26] \u001b[33m\"GET / HTTP/1.1\" 404 2165\u001b[0m\n",
      "Not Found: /favicon.ico\n",
      "[20/Jan/2023 10:03:26] \u001b[33m\"GET /favicon.ico HTTP/1.1\" 404 2216\u001b[0m\n",
      "[20/Jan/2023 10:03:53] \u001b[32m\"GET /admin HTTP/1.1\" 301 0\u001b[0m\n",
      "[20/Jan/2023 10:03:53] \u001b[32m\"GET /admin/ HTTP/1.1\" 302 0\u001b[0m\n",
      "[20/Jan/2023 10:03:53] \u001b[m\"GET /admin/login/?next=/admin/ HTTP/1.1\" 200 2218\u001b[0m\n",
      "[20/Jan/2023 10:03:53] \u001b[m\"GET /static/admin/css/nav_sidebar.css HTTP/1.1\" 200 2619\u001b[0m\n",
      "[20/Jan/2023 10:03:53] \u001b[m\"GET /static/admin/css/dark_mode.css HTTP/1.1\" 200 796\u001b[0m\n",
      "[20/Jan/2023 10:03:53] \u001b[m\"GET /static/admin/css/login.css HTTP/1.1\" 200 958\u001b[0m\n",
      "[20/Jan/2023 10:03:53] \u001b[m\"GET /static/admin/css/base.css HTTP/1.1\" 200 20344\u001b[0m\n",
      "[20/Jan/2023 10:03:53] \u001b[m\"GET /static/admin/css/responsive.css HTTP/1.1\" 200 18854\u001b[0m\n",
      "[20/Jan/2023 10:03:53] \u001b[m\"GET /static/admin/js/nav_sidebar.js HTTP/1.1\" 200 3763\u001b[0m\n",
      "[20/Jan/2023 10:03:53] \u001b[m\"GET /static/admin/css/fonts.css HTTP/1.1\" 200 423\u001b[0m\n",
      "[20/Jan/2023 10:03:53] \u001b[m\"GET /static/admin/fonts/Roboto-Light-webfont.woff HTTP/1.1\" 200 85692\u001b[0m\n",
      "[20/Jan/2023 10:03:53] \u001b[m\"GET /static/admin/fonts/Roboto-Regular-webfont.woff HTTP/1.1\" 200 85876\u001b[0m\n",
      "Not Found: /\n",
      "[20/Jan/2023 10:03:58] \u001b[33m\"GET / HTTP/1.1\" 404 2165\u001b[0m\n",
      "^C\n",
      "\u001b[0m\u001b[0m"
     ]
    }
   ],
   "source": [
    "!python3 manage.py runserver"
   ]
  },
  {
   "attachments": {},
   "cell_type": "markdown",
   "metadata": {},
   "source": [
    "http://127.0.0.1:8000/ <<< This is server. >>"
   ]
  },
  {
   "attachments": {},
   "cell_type": "markdown",
   "metadata": {},
   "source": [
    "http://127.0.0.1:8000/admin "
   ]
  },
  {
   "attachments": {},
   "cell_type": "markdown",
   "metadata": {},
   "source": [
    "<img src=\"admin.png\" alt=\"admin\" />"
   ]
  },
  {
   "attachments": {},
   "cell_type": "markdown",
   "metadata": {},
   "source": [
    "## Create a super user"
   ]
  },
  {
   "cell_type": "code",
   "execution_count": 1,
   "metadata": {},
   "outputs": [
    {
     "name": "stdout",
     "output_type": "stream",
     "text": [
      "Username (leave blank to use 'jedsadaluengaramsuk'): ^C\n",
      "\u001b[31;1m\n",
      "Operation cancelled.\n",
      "\u001b[0m\u001b[0m"
     ]
    }
   ],
   "source": [
    "!python3 manage.py createsuperuser \n"
   ]
  },
  {
   "attachments": {},
   "cell_type": "markdown",
   "metadata": {},
   "source": [
    "<img src=\"Image/Superuser-1.png\" alt=\"superuser\" />"
   ]
  },
  {
   "attachments": {},
   "cell_type": "markdown",
   "metadata": {},
   "source": [
    "pass: jedsada1"
   ]
  },
  {
   "attachments": {},
   "cell_type": "markdown",
   "metadata": {},
   "source": [
    "GO to the URL (Server) > Login "
   ]
  },
  {
   "cell_type": "code",
   "execution_count": 2,
   "metadata": {},
   "outputs": [
    {
     "name": "stdout",
     "output_type": "stream",
     "text": [
      "Watching for file changes with StatReloader\n",
      "Performing system checks...\n",
      "\n",
      "System check identified no issues (0 silenced).\n",
      "January 21, 2023 - 05:13:37\n",
      "Django version 4.1.5, using settings 'vidly.settings'\n",
      "Starting development server at http://127.0.0.1:8000/\n",
      "Quit the server with CONTROL-C.\n",
      "[21/Jan/2023 05:13:54] \u001b[32m\"GET /admin/ HTTP/1.1\" 302 0\u001b[0m\n",
      "[21/Jan/2023 05:13:54] \u001b[m\"GET /admin/login/?next=/admin/ HTTP/1.1\" 200 2218\u001b[0m\n",
      "[21/Jan/2023 05:13:54] \u001b[36m\"GET /static/admin/css/base.css HTTP/1.1\" 304 0\u001b[0m\n",
      "[21/Jan/2023 05:13:54] \u001b[36m\"GET /static/admin/css/dark_mode.css HTTP/1.1\" 304 0\u001b[0m\n",
      "[21/Jan/2023 05:13:54] \u001b[36m\"GET /static/admin/css/responsive.css HTTP/1.1\" 304 0\u001b[0m\n",
      "[21/Jan/2023 05:13:54] \u001b[36m\"GET /static/admin/css/nav_sidebar.css HTTP/1.1\" 304 0\u001b[0m\n",
      "[21/Jan/2023 05:13:54] \u001b[36m\"GET /static/admin/css/login.css HTTP/1.1\" 304 0\u001b[0m\n",
      "[21/Jan/2023 05:13:54] \u001b[36m\"GET /static/admin/js/nav_sidebar.js HTTP/1.1\" 304 0\u001b[0m\n",
      "[21/Jan/2023 05:13:54] \u001b[36m\"GET /static/admin/css/fonts.css HTTP/1.1\" 304 0\u001b[0m\n",
      "[21/Jan/2023 05:13:55] \u001b[36m\"GET /static/admin/fonts/Roboto-Regular-webfont.woff HTTP/1.1\" 304 0\u001b[0m\n",
      "[21/Jan/2023 05:13:55] \u001b[36m\"GET /static/admin/fonts/Roboto-Light-webfont.woff HTTP/1.1\" 304 0\u001b[0m\n",
      "[21/Jan/2023 05:14:15] \u001b[32m\"POST /admin/login/?next=/admin/ HTTP/1.1\" 302 0\u001b[0m\n",
      "[21/Jan/2023 05:14:15] \u001b[m\"GET /admin/ HTTP/1.1\" 200 3580\u001b[0m\n",
      "[21/Jan/2023 05:14:15] \u001b[m\"GET /static/admin/css/dashboard.css HTTP/1.1\" 200 380\u001b[0m\n",
      "[21/Jan/2023 05:14:15] \u001b[m\"GET /static/admin/img/icon-addlink.svg HTTP/1.1\" 200 331\u001b[0m\n",
      "[21/Jan/2023 05:14:15] \u001b[m\"GET /static/admin/img/icon-changelink.svg HTTP/1.1\" 200 380\u001b[0m\n",
      "[21/Jan/2023 05:14:15] \u001b[m\"GET /static/admin/fonts/Roboto-Bold-webfont.woff HTTP/1.1\" 200 86184\u001b[0m\n",
      "[21/Jan/2023 05:15:48] \u001b[m\"GET /admin/auth/user/ HTTP/1.1\" 200 8463\u001b[0m\n",
      "[21/Jan/2023 05:15:48] \u001b[m\"GET /static/admin/css/changelists.css HTTP/1.1\" 200 6395\u001b[0m\n",
      "[21/Jan/2023 05:15:48] \u001b[m\"GET /static/admin/js/core.js HTTP/1.1\" 200 5698\u001b[0m\n",
      "[21/Jan/2023 05:15:48] \u001b[m\"GET /static/admin/js/jquery.init.js HTTP/1.1\" 200 347\u001b[0m\n",
      "[21/Jan/2023 05:15:48] \u001b[m\"GET /static/admin/js/prepopulate.js HTTP/1.1\" 200 1531\u001b[0m\n",
      "[21/Jan/2023 05:15:48] \u001b[m\"GET /static/admin/js/admin/RelatedObjectLookups.js HTTP/1.1\" 200 8985\u001b[0m\n",
      "[21/Jan/2023 05:15:48] \u001b[m\"GET /static/admin/js/vendor/jquery/jquery.js HTTP/1.1\" 200 288580\u001b[0m\n",
      "[21/Jan/2023 05:15:48] \u001b[m\"GET /static/admin/js/actions.js HTTP/1.1\" 200 7872\u001b[0m\n",
      "[21/Jan/2023 05:15:48] \u001b[m\"GET /admin/jsi18n/ HTTP/1.1\" 200 3343\u001b[0m\n",
      "[21/Jan/2023 05:15:48] \u001b[m\"GET /static/admin/js/urlify.js HTTP/1.1\" 200 7902\u001b[0m\n",
      "[21/Jan/2023 05:15:48] \u001b[m\"GET /static/admin/js/vendor/xregexp/xregexp.js HTTP/1.1\" 200 232381\u001b[0m\n",
      "[21/Jan/2023 05:15:48] \u001b[m\"GET /static/admin/img/search.svg HTTP/1.1\" 200 458\u001b[0m\n",
      "[21/Jan/2023 05:15:48] \u001b[m\"GET /static/admin/js/filters.js HTTP/1.1\" 200 966\u001b[0m\n",
      "[21/Jan/2023 05:15:48] \u001b[m\"GET /static/admin/img/icon-yes.svg HTTP/1.1\" 200 436\u001b[0m\n",
      "[21/Jan/2023 05:15:48] \u001b[m\"GET /static/admin/img/tooltag-add.svg HTTP/1.1\" 200 331\u001b[0m\n",
      "[21/Jan/2023 05:15:48] \u001b[m\"GET /static/admin/img/sorting-icons.svg HTTP/1.1\" 200 1097\u001b[0m\n",
      "/Users/jedsadaluengaramsuk/Documents/GitHub/Django-learning /django-/movies/admin.py changed, reloading.\n",
      "\u001b[0mWatching for file changes with StatReloader\n",
      "Performing system checks...\n",
      "\n",
      "System check identified no issues (0 silenced).\n",
      "January 21, 2023 - 05:26:09\n",
      "Django version 4.1.5, using settings 'vidly.settings'\n",
      "Starting development server at http://127.0.0.1:8000/\n",
      "Quit the server with CONTROL-C.\n",
      "/Users/jedsadaluengaramsuk/Documents/GitHub/Django-learning /django-/movies/admin.py changed, reloading.\n",
      "\u001b[0mWatching for file changes with StatReloader\n",
      "Performing system checks...\n",
      "\n",
      "System check identified no issues (0 silenced).\n",
      "January 21, 2023 - 05:26:15\n",
      "Django version 4.1.5, using settings 'vidly.settings'\n",
      "Starting development server at http://127.0.0.1:8000/\n",
      "Quit the server with CONTROL-C.\n",
      "/Users/jedsadaluengaramsuk/Documents/GitHub/Django-learning /django-/movies/admin.py changed, reloading.\n",
      "\u001b[0mWatching for file changes with StatReloader\n",
      "Performing system checks...\n",
      "\n",
      "System check identified no issues (0 silenced).\n",
      "January 21, 2023 - 05:26:53\n",
      "Django version 4.1.5, using settings 'vidly.settings'\n",
      "Starting development server at http://127.0.0.1:8000/\n",
      "Quit the server with CONTROL-C.\n",
      "[21/Jan/2023 05:27:33] \u001b[m\"GET /admin/auth/user/ HTTP/1.1\" 200 9263\u001b[0m\n",
      "[21/Jan/2023 05:27:33] \u001b[m\"GET /admin/jsi18n/ HTTP/1.1\" 200 3343\u001b[0m\n",
      "[21/Jan/2023 05:27:35] \u001b[m\"GET /admin/movies/genre/ HTTP/1.1\" 200 5659\u001b[0m\n",
      "[21/Jan/2023 05:27:35] \u001b[m\"GET /admin/jsi18n/ HTTP/1.1\" 200 3343\u001b[0m\n",
      "[21/Jan/2023 05:27:37] \u001b[m\"GET /admin/movies/ HTTP/1.1\" 200 3411\u001b[0m\n",
      "^C\n",
      "\u001b[0m\u001b[0m"
     ]
    }
   ],
   "source": [
    "!python3 manage.py runserver"
   ]
  },
  {
   "attachments": {},
   "cell_type": "markdown",
   "metadata": {},
   "source": [
    "http://127.0.0.1:8000/admin"
   ]
  },
  {
   "attachments": {},
   "cell_type": "markdown",
   "metadata": {},
   "source": [
    "<img src=\"Image/login.png\" alt=\"login-1\" />"
   ]
  },
  {
   "attachments": {},
   "cell_type": "markdown",
   "metadata": {},
   "source": [
    "<img src=\"Image/login-2.png\" alt=\"login-2\" />"
   ]
  },
  {
   "attachments": {},
   "cell_type": "markdown",
   "metadata": {},
   "source": [
    "<img src=\"Image/managing-user.png\" alt=\"managing-user\" />"
   ]
  },
  {
   "attachments": {},
   "cell_type": "markdown",
   "metadata": {},
   "source": [
    "## Customize admin interface "
   ]
  },
  {
   "attachments": {},
   "cell_type": "markdown",
   "metadata": {},
   "source": [
    "app folder > admin.py "
   ]
  },
  {
   "attachments": {},
   "cell_type": "markdown",
   "metadata": {},
   "source": [
    "<img src=\"Image/admin-3.png\" alt=\"admin-3\" />"
   ]
  },
  {
   "attachments": {},
   "cell_type": "markdown",
   "metadata": {},
   "source": [
    "<img src=\"Image/admin-4.png\" alt=\"admin-4\" />"
   ]
  },
  {
   "attachments": {},
   "cell_type": "markdown",
   "metadata": {},
   "source": [
    "# Cutomize the admin"
   ]
  },
  {
   "attachments": {},
   "cell_type": "markdown",
   "metadata": {},
   "source": [
    "app folder > model.py"
   ]
  },
  {
   "attachments": {},
   "cell_type": "markdown",
   "metadata": {},
   "source": [
    "<img src=\"Image/admin-5.png\" alt=\"admin-5\" /> "
   ]
  },
  {
   "attachments": {},
   "cell_type": "markdown",
   "metadata": {},
   "source": [
    "I add action gerne but it show Genre object, Therefore, I need to customize it "
   ]
  },
  {
   "attachments": {},
   "cell_type": "markdown",
   "metadata": {},
   "source": [
    "app folder >> models.py"
   ]
  },
  {
   "attachments": {},
   "cell_type": "markdown",
   "metadata": {},
   "source": [
    "<img src=\"Image/admin-6.png\" alt=\"admin-6\" /> "
   ]
  },
  {
   "attachments": {},
   "cell_type": "markdown",
   "metadata": {},
   "source": [
    "Now the actual name is here "
   ]
  },
  {
   "attachments": {},
   "cell_type": "markdown",
   "metadata": {},
   "source": [
    "<img src=\"Image/admin-7.png\" alt=\"admin-7\" /> "
   ]
  },
  {
   "attachments": {},
   "cell_type": "markdown",
   "metadata": {},
   "source": [
    "## Add column "
   ]
  },
  {
   "attachments": {},
   "cell_type": "markdown",
   "metadata": {},
   "source": [
    "App folder > admin.py "
   ]
  },
  {
   "attachments": {},
   "cell_type": "markdown",
   "metadata": {},
   "source": [
    "<img src=\"admin-8.png\" alt=\"admin-8\" /> "
   ]
  },
  {
   "attachments": {},
   "cell_type": "markdown",
   "metadata": {},
   "source": [
    "now on the admin, it will be like this (id and name)"
   ]
  },
  {
   "attachments": {},
   "cell_type": "markdown",
   "metadata": {},
   "source": [
    "<img src=\"Image/admin-9.png\" alt=\"admin-9\" /> "
   ]
  },
  {
   "attachments": {},
   "cell_type": "markdown",
   "metadata": {},
   "source": [
    "## Add object in the application "
   ]
  },
  {
   "attachments": {},
   "cell_type": "markdown",
   "metadata": {},
   "source": [
    "<img src=\"Image/admin-11.png\" alt=\"admin-11\" /> "
   ]
  },
  {
   "attachments": {},
   "cell_type": "markdown",
   "metadata": {},
   "source": [
    "<img src=\"Image/admin-12.png\" alt=\"admin-12\" /> "
   ]
  },
  {
   "attachments": {},
   "cell_type": "markdown",
   "metadata": {},
   "source": [
    "Still a native object therefore, need to change it to string "
   ]
  },
  {
   "attachments": {},
   "cell_type": "markdown",
   "metadata": {},
   "source": [
    "app folder > admin.py"
   ]
  },
  {
   "attachments": {},
   "cell_type": "markdown",
   "metadata": {},
   "source": [
    "now it will be like this "
   ]
  },
  {
   "attachments": {},
   "cell_type": "markdown",
   "metadata": {},
   "source": [
    "<img src=\"Image/admin-14.png\" alt=\"admin-14\" /> "
   ]
  },
  {
   "attachments": {},
   "cell_type": "markdown",
   "metadata": {},
   "source": [
    "<img src=\"Image/admin-15.png\" alt=\"admin-15\" /> "
   ]
  },
  {
   "attachments": {},
   "cell_type": "markdown",
   "metadata": {},
   "source": [
    "# Database Abstraction API"
   ]
  },
  {
   "attachments": {},
   "cell_type": "markdown",
   "metadata": {},
   "source": [
    "models classes (Django) > interact with SQL (database )"
   ]
  },
  {
   "attachments": {},
   "cell_type": "markdown",
   "metadata": {},
   "source": [
    "Therefore you need to fill the right SQL statement "
   ]
  },
  {
   "attachments": {},
   "cell_type": "markdown",
   "metadata": {},
   "source": [
    "app folder > views.py to configue the html"
   ]
  },
  {
   "attachments": {},
   "cell_type": "markdown",
   "metadata": {},
   "source": [
    "<img src=\"api-1.png\" alt=\"api-1\" /> "
   ]
  },
  {
   "attachments": {},
   "cell_type": "markdown",
   "metadata": {},
   "source": [
    "import Movie object from model into views "
   ]
  },
  {
   "attachments": {},
   "cell_type": "markdown",
   "metadata": {},
   "source": [
    "<img src=\"api-4.png\" alt=\"api-4\" /> "
   ]
  },
  {
   "attachments": {},
   "cell_type": "markdown",
   "metadata": {},
   "source": [
    "then the return will be like this (SQL ready)"
   ]
  },
  {
   "attachments": {},
   "cell_type": "markdown",
   "metadata": {},
   "source": [
    "<img src=\"Image/api-2.png\" alt=\"api-2\" /> "
   ]
  },
  {
   "attachments": {},
   "cell_type": "markdown",
   "metadata": {},
   "source": [
    "# Template "
   ]
  },
  {
   "attachments": {},
   "cell_type": "markdown",
   "metadata": {},
   "source": [
    "return HTML content in the view function "
   ]
  },
  {
   "attachments": {},
   "cell_type": "markdown",
   "metadata": {},
   "source": [
    "app folder > views.py "
   ]
  },
  {
   "attachments": {},
   "cell_type": "markdown",
   "metadata": {},
   "source": [
    "first , need to import render function "
   ]
  },
  {
   "cell_type": "code",
   "execution_count": 3,
   "metadata": {},
   "outputs": [],
   "source": [
    "from django.shortcuts import render"
   ]
  },
  {
   "attachments": {},
   "cell_type": "markdown",
   "metadata": {},
   "source": [
    "<img src=\"template-1.png\" alt=\"template-1\" /> "
   ]
  },
  {
   "attachments": {},
   "cell_type": "markdown",
   "metadata": {},
   "source": [
    "Create folder called template in the application "
   ]
  },
  {
   "attachments": {},
   "cell_type": "markdown",
   "metadata": {},
   "source": [
    "Then create HTML file as a template\n"
   ]
  },
  {
   "attachments": {},
   "cell_type": "markdown",
   "metadata": {},
   "source": [
    "<img src=\"template-2.png\" alt=\"template-2\" /> "
   ]
  },
  {
   "attachments": {},
   "cell_type": "markdown",
   "metadata": {},
   "source": [
    "<img src=\"template-3.png\" alt=\"template-3\" /> "
   ]
  },
  {
   "attachments": {},
   "cell_type": "markdown",
   "metadata": {},
   "source": [
    "<img src=\"template-4.png\" alt=\"template-4\" /> "
   ]
  },
  {
   "attachments": {},
   "cell_type": "markdown",
   "metadata": {},
   "source": [
    "now initialized html"
   ]
  },
  {
   "attachments": {},
   "cell_type": "markdown",
   "metadata": {},
   "source": [
    "## Problems with indexing (Django)"
   ]
  },
  {
   "attachments": {},
   "cell_type": "markdown",
   "metadata": {},
   "source": [
    "django try to find the html file by looping through all the install apps. Therefore, use relative path instead of actual file name is better "
   ]
  },
  {
   "attachments": {},
   "cell_type": "markdown",
   "metadata": {},
   "source": [
    "<img src=\"template-5.png\" alt=\"template-5\" /> "
   ]
  },
  {
   "attachments": {},
   "cell_type": "markdown",
   "metadata": {},
   "source": [
    "<img src=\"template-6.png\" alt=\"template-6\" /> "
   ]
  },
  {
   "attachments": {},
   "cell_type": "markdown",
   "metadata": {},
   "source": [
    "# Bootstrap"
   ]
  },
  {
   "attachments": {},
   "cell_type": "markdown",
   "metadata": {},
   "source": [
    "Give style to our application "
   ]
  },
  {
   "attachments": {},
   "cell_type": "markdown",
   "metadata": {},
   "source": [
    "https://getbootstrap.com/docs/5.3/getting-started/introduction/"
   ]
  },
  {
   "attachments": {},
   "cell_type": "markdown",
   "metadata": {},
   "source": [
    "https://getbootstrap.com/docs/5.0/getting-started/introduction/"
   ]
  },
  {
   "attachments": {},
   "cell_type": "markdown",
   "metadata": {},
   "source": [
    "Using the starter template > add base.html in the template file(application folder )"
   ]
  },
  {
   "attachments": {},
   "cell_type": "markdown",
   "metadata": {},
   "source": [
    "Change the title and add your content in body tag "
   ]
  },
  {
   "attachments": {},
   "cell_type": "markdown",
   "metadata": {},
   "source": [
    "<img src=\"bootstrap-1.png\" alt=\"bootstrap-1\" /> "
   ]
  },
  {
   "attachments": {},
   "cell_type": "markdown",
   "metadata": {},
   "source": [
    "now the block will be connect to another html page "
   ]
  },
  {
   "attachments": {},
   "cell_type": "markdown",
   "metadata": {},
   "source": [
    "go to index.html"
   ]
  },
  {
   "attachments": {},
   "cell_type": "markdown",
   "metadata": {},
   "source": [
    "using extend tag (django)"
   ]
  },
  {
   "attachments": {},
   "cell_type": "markdown",
   "metadata": {},
   "source": [
    "then use block tag to sync two html together "
   ]
  },
  {
   "attachments": {},
   "cell_type": "markdown",
   "metadata": {},
   "source": [
    "<img src=\"boot-4.png\" alt=\"boot-4\" /> "
   ]
  },
  {
   "attachments": {},
   "cell_type": "markdown",
   "metadata": {},
   "source": [
    "<img src=\"boot-5.png\" alt=\"boot-5\" /> "
   ]
  },
  {
   "attachments": {},
   "cell_type": "markdown",
   "metadata": {},
   "source": [
    "now the bootstrap is activated "
   ]
  },
  {
   "attachments": {},
   "cell_type": "markdown",
   "metadata": {},
   "source": [
    "# Customizing the Layout"
   ]
  },
  {
   "attachments": {},
   "cell_type": "markdown",
   "metadata": {},
   "source": [
    "Insert a navbar (code in the document) > use as a link one "
   ]
  },
  {
   "cell_type": "code",
   "execution_count": null,
   "metadata": {
    "vscode": {
     "languageId": "html"
    }
   },
   "outputs": [],
   "source": [
    "<!-- As a link -->\n",
    "<nav class=\"navbar navbar-light bg-light\">\n",
    "  <div class=\"container-fluid\">\n",
    "    <a class=\"navbar-brand\" href=\"#\">Navbar</a>\n",
    "  </div>\n",
    "</nav>\n",
    "\n",
    "<!-- As a heading -->\n",
    "<nav class=\"navbar navbar-light bg-light\">\n",
    "  <div class=\"container-fluid\">\n",
    "    <span class=\"navbar-brand mb-0 h1\">Navbar</span>\n",
    "  </div>\n",
    "</nav>"
   ]
  },
  {
   "attachments": {},
   "cell_type": "markdown",
   "metadata": {},
   "source": [
    "<img src=\"add-navbar.png\" alt=\"add-navbar\" /> "
   ]
  },
  {
   "attachments": {},
   "cell_type": "markdown",
   "metadata": {},
   "source": [
    "add navbar to body "
   ]
  },
  {
   "attachments": {},
   "cell_type": "markdown",
   "metadata": {},
   "source": [
    "<img src=\"nav-1.png\" alt=\"nav-1\"/>"
   ]
  },
  {
   "attachments": {},
   "cell_type": "markdown",
   "metadata": {},
   "source": [
    "Now the navbar is there"
   ]
  },
  {
   "attachments": {},
   "cell_type": "markdown",
   "metadata": {},
   "source": [
    "## Container"
   ]
  },
  {
   "attachments": {},
   "cell_type": "markdown",
   "metadata": {},
   "source": [
    "<img src=\"nav-2.png\" alt=\"nav-2\"/>"
   ]
  },
  {
   "cell_type": "markdown",
   "metadata": {},
   "source": [
    "<img src=\"nav-4.png\" alt=\"nav-4\"/>"
   ]
  },
  {
   "attachments": {},
   "cell_type": "markdown",
   "metadata": {},
   "source": [
    "## Customize table "
   ]
  },
  {
   "attachments": {},
   "cell_type": "markdown",
   "metadata": {},
   "source": [
    "<img src=\"nav-5.png\" alt=\"nav-5\"/>"
   ]
  },
  {
   "attachments": {},
   "cell_type": "markdown",
   "metadata": {},
   "source": [
    "add more classes now table will be customized "
   ]
  },
  {
   "attachments": {},
   "cell_type": "markdown",
   "metadata": {},
   "source": [
    "# Sharing template accross multiple apps "
   ]
  },
  {
   "attachments": {},
   "cell_type": "markdown",
   "metadata": {},
   "source": [
    "create new folder (at root ) called template "
   ]
  },
  {
   "attachments": {},
   "cell_type": "markdown",
   "metadata": {},
   "source": [
    "then move base.html to universal template "
   ]
  },
  {
   "attachments": {},
   "cell_type": "markdown",
   "metadata": {},
   "source": [
    "change the relative path of that index base.html to just a name (index.html)"
   ]
  },
  {
   "attachments": {},
   "cell_type": "markdown",
   "metadata": {},
   "source": [
    "<img src=\"uni-1.png\" alt=\"uni-1\"/>"
   ]
  },
  {
   "attachments": {},
   "cell_type": "markdown",
   "metadata": {},
   "source": [
    "go to settings.py of the main app (vidly)"
   ]
  },
  {
   "attachments": {},
   "cell_type": "markdown",
   "metadata": {},
   "source": [
    "reconfigure the template settings "
   ]
  },
  {
   "attachments": {},
   "cell_type": "markdown",
   "metadata": {},
   "source": [
    "add new template folder in DIRS (using os)"
   ]
  },
  {
   "attachments": {},
   "cell_type": "markdown",
   "metadata": {},
   "source": [
    "<img src=\"uni-2.png\" alt=\"uni-2\"/>"
   ]
  },
  {
   "attachments": {},
   "cell_type": "markdown",
   "metadata": {},
   "source": [
    "now we can use base template everywhere "
   ]
  },
  {
   "attachments": {},
   "cell_type": "markdown",
   "metadata": {},
   "source": [
    "# URL Parameters "
   ]
  },
  {
   "attachments": {},
   "cell_type": "markdown",
   "metadata": {},
   "source": [
    "<img src=\"url-1.png\" alt=\"url-1\"/>"
   ]
  },
  {
   "attachments": {},
   "cell_type": "markdown",
   "metadata": {},
   "source": [
    "Create URL for each items "
   ]
  },
  {
   "attachments": {},
   "cell_type": "markdown",
   "metadata": {},
   "source": [
    "movies/1 = first movie \n",
    "moves/2 = second movie"
   ]
  },
  {
   "attachments": {},
   "cell_type": "markdown",
   "metadata": {},
   "source": [
    "configue in urls.py (movies app) "
   ]
  },
  {
   "attachments": {},
   "cell_type": "markdown",
   "metadata": {},
   "source": [
    "<img src=\"url-2.png\" alt=\"url-2\"/>"
   ]
  },
  {
   "attachments": {},
   "cell_type": "markdown",
   "metadata": {},
   "source": [
    "you also need to create view function (views.detail)"
   ]
  },
  {
   "attachments": {},
   "cell_type": "markdown",
   "metadata": {},
   "source": [
    "<img src=\"url-3.png\" alt=\"url-3\"/>"
   ]
  }
 ],
 "metadata": {
  "kernelspec": {
   "display_name": "base",
   "language": "python",
   "name": "python3"
  },
  "language_info": {
   "codemirror_mode": {
    "name": "ipython",
    "version": 3
   },
   "file_extension": ".py",
   "mimetype": "text/x-python",
   "name": "python",
   "nbconvert_exporter": "python",
   "pygments_lexer": "ipython3",
   "version": "3.8.8 (default, Apr 13 2021, 12:59:45) \n[Clang 10.0.0 ]"
  },
  "orig_nbformat": 4,
  "vscode": {
   "interpreter": {
    "hash": "40e7d4bbb70552d2dbfc01d9c48a1b023097c4d41713c0cfb46a3636277fb6a3"
   }
  }
 },
 "nbformat": 4,
 "nbformat_minor": 2
}
