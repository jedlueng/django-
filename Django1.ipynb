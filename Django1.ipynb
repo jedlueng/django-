{
 "cells": [
  {
   "attachments": {},
   "cell_type": "markdown",
   "metadata": {},
   "source": [
    "# Jedlueng Django Learning 17 January 2023 "
   ]
  },
  {
   "attachments": {},
   "cell_type": "markdown",
   "metadata": {},
   "source": [
    "end 28 January 2023 \n",
    "- I learn how to create app web app with django \n",
    "- fail to deploy\n",
    "- learn how to use bootstrap\n",
    "- Need to learn it better next time. "
   ]
  },
  {
   "attachments": {},
   "cell_type": "markdown",
   "metadata": {},
   "source": [
    "## Install Django and environment "
   ]
  },
  {
   "attachments": {},
   "cell_type": "markdown",
   "metadata": {},
   "source": [
    "Terminal \n",
    "\n",
    "#Make directory \n",
    "\n",
    "mkdir vidly \n",
    "\n",
    "#Go in vidly directory \n",
    "\n",
    "cd vidly \n",
    "\n",
    "#Install Django \n",
    "pipenv install django==2.1 \n",
    "\n",
    "#or \n",
    "pip install django "
   ]
  },
  {
   "cell_type": "code",
   "execution_count": null,
   "metadata": {},
   "outputs": [],
   "source": []
  },
  {
   "attachments": {},
   "cell_type": "markdown",
   "metadata": {},
   "source": [
    "## Start Django Project "
   ]
  },
  {
   "cell_type": "code",
   "execution_count": 2,
   "metadata": {},
   "outputs": [
    {
     "name": "stdout",
     "output_type": "stream",
     "text": [
      "Collecting django\n",
      "  Using cached Django-4.1.5-py3-none-any.whl (8.1 MB)\n",
      "Collecting asgiref<4,>=3.5.2\n",
      "  Using cached asgiref-3.6.0-py3-none-any.whl (23 kB)\n",
      "Collecting backports.zoneinfo\n",
      "  Downloading backports.zoneinfo-0.2.1-cp38-cp38-macosx_10_14_x86_64.whl (35 kB)\n",
      "Collecting sqlparse>=0.2.2\n",
      "  Using cached sqlparse-0.4.3-py3-none-any.whl (42 kB)\n",
      "Installing collected packages: sqlparse, backports.zoneinfo, asgiref, django\n",
      "Successfully installed asgiref-3.6.0 backports.zoneinfo-0.2.1 django-4.1.5 sqlparse-0.4.3\n"
     ]
    }
   ],
   "source": [
    "%pip install django "
   ]
  },
  {
   "cell_type": "code",
   "execution_count": 3,
   "metadata": {},
   "outputs": [],
   "source": [
    "import django"
   ]
  },
  {
   "cell_type": "code",
   "execution_count": 4,
   "metadata": {},
   "outputs": [
    {
     "name": "stdout",
     "output_type": "stream",
     "text": [
      "\u001b[0m"
     ]
    }
   ],
   "source": [
    "# Start a project \n",
    "!django-admin startproject vidly . \n",
    "#This will create files in admin "
   ]
  },
  {
   "attachments": {},
   "cell_type": "markdown",
   "metadata": {},
   "source": [
    "<img src=\"Image/django-admin.png\" alt=\"django-admin\" />\n"
   ]
  },
  {
   "cell_type": "code",
   "execution_count": null,
   "metadata": {},
   "outputs": [],
   "source": [
    "#manage.py == operation for the website \n",
    "\n",
    "#Image above is a package for our projects "
   ]
  },
  {
   "attachments": {},
   "cell_type": "markdown",
   "metadata": {},
   "source": [
    "### Run a server "
   ]
  },
  {
   "cell_type": "code",
   "execution_count": 11,
   "metadata": {},
   "outputs": [
    {
     "name": "stdout",
     "output_type": "stream",
     "text": [
      "Watching for file changes with StatReloader\n",
      "Performing system checks...\n",
      "\n",
      "System check identified no issues (0 silenced).\n",
      "\u001b[31m\n",
      "You have 18 unapplied migration(s). Your project may not work properly until you apply the migrations for app(s): admin, auth, contenttypes, sessions.\u001b[0m\n",
      "\u001b[31mRun 'python manage.py migrate' to apply them.\u001b[0m\n",
      "January 18, 2023 - 12:22:39\n",
      "Django version 4.1.5, using settings 'vidly.settings'\n",
      "Starting development server at http://127.0.0.1:8000/\n",
      "Quit the server with CONTROL-C.\n",
      "^C\n",
      "\u001b[0m\u001b[0m"
     ]
    }
   ],
   "source": [
    "!python3 manage.py runserver "
   ]
  },
  {
   "attachments": {},
   "cell_type": "markdown",
   "metadata": {},
   "source": [
    "# First Django Application "
   ]
  },
  {
   "attachments": {},
   "cell_type": "markdown",
   "metadata": {},
   "source": [
    "<img src=\"Image/Django-project.png\" alt=\"Django-project\" />"
   ]
  },
  {
   "attachments": {},
   "cell_type": "markdown",
   "metadata": {},
   "source": [
    "Django project consist of many application but working under one banner "
   ]
  },
  {
   "attachments": {},
   "cell_type": "markdown",
   "metadata": {},
   "source": [
    "<img src=\"Image/Project-2.png\" alt=\"Django-project\" />"
   ]
  },
  {
   "attachments": {},
   "cell_type": "markdown",
   "metadata": {},
   "source": [
    "## Create a new application "
   ]
  },
  {
   "cell_type": "code",
   "execution_count": 12,
   "metadata": {},
   "outputs": [
    {
     "name": "stdout",
     "output_type": "stream",
     "text": [
      "\u001b[0m"
     ]
    }
   ],
   "source": [
    "!python3 manage.py startapp movies \n",
    "#New directory will be created call movies \n",
    "#This is a new apps "
   ]
  },
  {
   "attachments": {},
   "cell_type": "markdown",
   "metadata": {},
   "source": [
    "<img src=\"Image/Move.png\" alt=\"Django-project\" />"
   ]
  },
  {
   "attachments": {},
   "cell_type": "markdown",
   "metadata": {},
   "source": [
    "## View function"
   ]
  },
  {
   "attachments": {},
   "cell_type": "markdown",
   "metadata": {},
   "source": [
    "<img src=\"Image/view.png\" alt=\"view.png\" />"
   ]
  },
  {
   "attachments": {},
   "cell_type": "markdown",
   "metadata": {},
   "source": [
    "view the app\n"
   ]
  },
  {
   "attachments": {},
   "cell_type": "markdown",
   "metadata": {},
   "source": [
    "<img src=\"Image/View-2.png\" alt=\"Django-project\" />"
   ]
  },
  {
   "attachments": {},
   "cell_type": "markdown",
   "metadata": {},
   "source": [
    "# Views "
   ]
  },
  {
   "cell_type": "code",
   "execution_count": null,
   "metadata": {},
   "outputs": [],
   "source": [
    "# Open view.py under movies application "
   ]
  },
  {
   "attachments": {},
   "cell_type": "markdown",
   "metadata": {},
   "source": [
    "<img src=\"Image/view-3.png\" alt=\"Django-project\" />"
   ]
  },
  {
   "attachments": {},
   "cell_type": "markdown",
   "metadata": {},
   "source": [
    "create a function that represent the main page of the application. "
   ]
  },
  {
   "attachments": {},
   "cell_type": "markdown",
   "metadata": {},
   "source": [
    "View is easily a way to mapp urls "
   ]
  },
  {
   "attachments": {},
   "cell_type": "markdown",
   "metadata": {},
   "source": [
    "** Use request in view.py >> map url for the application (urls.py) > map url for application (Urls.py on another files)"
   ]
  },
  {
   "attachments": {},
   "cell_type": "markdown",
   "metadata": {},
   "source": [
    "<img src=\"Image/url-pics-1.png\" alt=\"URL-pics-1\" />"
   ]
  },
  {
   "attachments": {},
   "cell_type": "markdown",
   "metadata": {},
   "source": [
    "THen "
   ]
  },
  {
   "attachments": {},
   "cell_type": "markdown",
   "metadata": {},
   "source": [
    "<img src=\"Image/url-pics-2.png\" alt=\"URL-pics-2\" />"
   ]
  },
  {
   "attachments": {},
   "cell_type": "markdown",
   "metadata": {},
   "source": [
    "Then "
   ]
  },
  {
   "attachments": {},
   "cell_type": "markdown",
   "metadata": {},
   "source": [
    "<img src=\"Image/url-pics-3.png\" alt=\"URL-pics-3\" />"
   ]
  },
  {
   "attachments": {},
   "cell_type": "markdown",
   "metadata": {},
   "source": [
    "## Run server to test "
   ]
  },
  {
   "cell_type": "code",
   "execution_count": 1,
   "metadata": {},
   "outputs": [
    {
     "name": "stdout",
     "output_type": "stream",
     "text": [
      "Watching for file changes with StatReloader\n",
      "Performing system checks...\n",
      "\n",
      "System check identified no issues (0 silenced).\n",
      "\u001b[31m\n",
      "You have 18 unapplied migration(s). Your project may not work properly until you apply the migrations for app(s): admin, auth, contenttypes, sessions.\u001b[0m\n",
      "\u001b[31mRun 'python manage.py migrate' to apply them.\u001b[0m\n",
      "January 19, 2023 - 13:55:24\n",
      "Django version 4.1.5, using settings 'vidly.settings'\n",
      "Starting development server at http://127.0.0.1:8000/\n",
      "Quit the server with CONTROL-C.\n",
      "^C\n"
     ]
    }
   ],
   "source": [
    "!python3 manage.py runserver"
   ]
  },
  {
   "attachments": {},
   "cell_type": "markdown",
   "metadata": {},
   "source": [
    "# Models "
   ]
  },
  {
   "attachments": {},
   "cell_type": "markdown",
   "metadata": {},
   "source": [
    "models > use to represent application data "
   ]
  },
  {
   "attachments": {},
   "cell_type": "markdown",
   "metadata": {},
   "source": [
    "> Goes to application models.py"
   ]
  },
  {
   "attachments": {},
   "cell_type": "markdown",
   "metadata": {},
   "source": [
    "<img src=\"Image/url-pics-1.png\" alt=\"URL-pics-1\" />"
   ]
  },
  {
   "attachments": {},
   "cell_type": "markdown",
   "metadata": {},
   "source": [
    "# migration "
   ]
  },
  {
   "attachments": {},
   "cell_type": "markdown",
   "metadata": {},
   "source": [
    "When you create models and application, it is not migrated yet "
   ]
  },
  {
   "attachments": {},
   "cell_type": "markdown",
   "metadata": {},
   "source": [
    "bringing the database up to date "
   ]
  },
  {
   "attachments": {},
   "cell_type": "markdown",
   "metadata": {},
   "source": [
    "sqlite "
   ]
  },
  {
   "attachments": {},
   "cell_type": "markdown",
   "metadata": {},
   "source": [
    "Migration is the way to migrate data in the database to the models application in Django "
   ]
  },
  {
   "attachments": {},
   "cell_type": "markdown",
   "metadata": {},
   "source": [
    "<img src=\"Migration.png\" alt=\"Migration\" />"
   ]
  },
  {
   "cell_type": "code",
   "execution_count": 1,
   "metadata": {},
   "outputs": [
    {
     "name": "stdout",
     "output_type": "stream",
     "text": [
      "No changes detected\n",
      "\u001b[0m"
     ]
    }
   ],
   "source": [
    "#Run a migration \n",
    "!python3 manage.py makemigrations "
   ]
  },
  {
   "attachments": {},
   "cell_type": "markdown",
   "metadata": {},
   "source": [
    "## Install movies "
   ]
  },
  {
   "attachments": {},
   "cell_type": "markdown",
   "metadata": {},
   "source": [
    "main app > setting.py "
   ]
  },
  {
   "attachments": {},
   "cell_type": "markdown",
   "metadata": {},
   "source": [
    "install_apps > add application Config (in apps.py of the app)"
   ]
  },
  {
   "attachments": {},
   "cell_type": "markdown",
   "metadata": {},
   "source": [
    "<img src=\"Image/apps.png\" alt=\"apps\" />"
   ]
  },
  {
   "attachments": {},
   "cell_type": "markdown",
   "metadata": {},
   "source": [
    "<img src=\"Image/movie-config-2.png\" alt=\"Migration\" />"
   ]
  },
  {
   "cell_type": "code",
   "execution_count": 6,
   "metadata": {},
   "outputs": [
    {
     "name": "stdout",
     "output_type": "stream",
     "text": [
      "\u001b[36;1mMigrations for 'movies':\u001b[0m\n",
      "  \u001b[1mmovies/migrations/0001_initial.py\u001b[0m\n",
      "    - Create model Genre\n",
      "    - Create model Movie\n",
      "\u001b[0m"
     ]
    }
   ],
   "source": [
    "# Make migration again \n",
    "!python3 manage.py makemigrations "
   ]
  },
  {
   "cell_type": "code",
   "execution_count": 7,
   "metadata": {},
   "outputs": [
    {
     "name": "stdout",
     "output_type": "stream",
     "text": [
      "Watching for file changes with StatReloader\n",
      "Performing system checks...\n",
      "\n",
      "System check identified no issues (0 silenced).\n",
      "\u001b[31m\n",
      "You have 19 unapplied migration(s). Your project may not work properly until you apply the migrations for app(s): admin, auth, contenttypes, movies, sessions.\u001b[0m\n",
      "\u001b[31mRun 'python manage.py migrate' to apply them.\u001b[0m\n",
      "January 20, 2023 - 07:27:53\n",
      "Django version 4.1.5, using settings 'vidly.settings'\n",
      "Starting development server at http://127.0.0.1:8000/\n",
      "Quit the server with CONTROL-C.\n",
      "^C\n",
      "\u001b[0m\u001b[0m"
     ]
    }
   ],
   "source": [
    "!python3 manage.py runserver \n",
    "# 19 Migrations "
   ]
  },
  {
   "attachments": {},
   "cell_type": "markdown",
   "metadata": {},
   "source": [
    "## All migrate "
   ]
  },
  {
   "cell_type": "code",
   "execution_count": 8,
   "metadata": {},
   "outputs": [
    {
     "name": "stdout",
     "output_type": "stream",
     "text": [
      "\u001b[36;1mOperations to perform:\u001b[0m\n",
      "\u001b[1m  Apply all migrations: \u001b[0madmin, auth, contenttypes, movies, sessions\n",
      "\u001b[36;1mRunning migrations:\u001b[0m\n",
      "  Applying contenttypes.0001_initial...\u001b[32;1m OK\u001b[0m\n",
      "  Applying auth.0001_initial...\u001b[32;1m OK\u001b[0m\n",
      "  Applying admin.0001_initial...\u001b[32;1m OK\u001b[0m\n",
      "  Applying admin.0002_logentry_remove_auto_add...\u001b[32;1m OK\u001b[0m\n",
      "  Applying admin.0003_logentry_add_action_flag_choices...\u001b[32;1m OK\u001b[0m\n",
      "  Applying contenttypes.0002_remove_content_type_name...\u001b[32;1m OK\u001b[0m\n",
      "  Applying auth.0002_alter_permission_name_max_length...\u001b[32;1m OK\u001b[0m\n",
      "  Applying auth.0003_alter_user_email_max_length...\u001b[32;1m OK\u001b[0m\n",
      "  Applying auth.0004_alter_user_username_opts...\u001b[32;1m OK\u001b[0m\n",
      "  Applying auth.0005_alter_user_last_login_null...\u001b[32;1m OK\u001b[0m\n",
      "  Applying auth.0006_require_contenttypes_0002...\u001b[32;1m OK\u001b[0m\n",
      "  Applying auth.0007_alter_validators_add_error_messages...\u001b[32;1m OK\u001b[0m\n",
      "  Applying auth.0008_alter_user_username_max_length...\u001b[32;1m OK\u001b[0m\n",
      "  Applying auth.0009_alter_user_last_name_max_length...\u001b[32;1m OK\u001b[0m\n",
      "  Applying auth.0010_alter_group_name_max_length...\u001b[32;1m OK\u001b[0m\n",
      "  Applying auth.0011_update_proxy_permissions...\u001b[32;1m OK\u001b[0m\n",
      "  Applying auth.0012_alter_user_first_name_max_length...\u001b[32;1m OK\u001b[0m\n",
      "  Applying movies.0001_initial...\u001b[32;1m OK\u001b[0m\n",
      "  Applying sessions.0001_initial...\u001b[32;1m OK\u001b[0m\n",
      "\u001b[0m"
     ]
    }
   ],
   "source": [
    "!python3 manage.py migrate \n",
    "# Now migration are all migrated \n",
    "#Including the database "
   ]
  },
  {
   "attachments": {},
   "cell_type": "markdown",
   "metadata": {},
   "source": [
    "<img src=\"SQL-3.png\" alt=\"SQL-3\" />"
   ]
  },
  {
   "attachments": {},
   "cell_type": "markdown",
   "metadata": {},
   "source": [
    "# Changing Models "
   ]
  },
  {
   "attachments": {},
   "cell_type": "markdown",
   "metadata": {},
   "source": [
    "Create a new datetime attribute \n",
    "\n",
    "App > models.py "
   ]
  },
  {
   "attachments": {},
   "cell_type": "markdown",
   "metadata": {},
   "source": [
    "<img src=\"dt.png\" alt=\"dt\" />"
   ]
  },
  {
   "cell_type": "code",
   "execution_count": 9,
   "metadata": {},
   "outputs": [
    {
     "name": "stdout",
     "output_type": "stream",
     "text": [
      "\u001b[36;1mMigrations for 'movies':\u001b[0m\n",
      "  \u001b[1mmovies/migrations/0002_movie_date_created.py\u001b[0m\n",
      "    - Add field date_created to movie\n",
      "\u001b[0m"
     ]
    }
   ],
   "source": [
    "!python3 manage.py makemigrations "
   ]
  },
  {
   "attachments": {},
   "cell_type": "markdown",
   "metadata": {},
   "source": [
    "all migration will be recorded in the migration folder in the application folder "
   ]
  },
  {
   "attachments": {},
   "cell_type": "markdown",
   "metadata": {},
   "source": [
    "Do not ever delete migration!"
   ]
  },
  {
   "attachments": {},
   "cell_type": "markdown",
   "metadata": {},
   "source": [
    "## SQL migrate command "
   ]
  },
  {
   "cell_type": "code",
   "execution_count": 10,
   "metadata": {},
   "outputs": [
    {
     "name": "stdout",
     "output_type": "stream",
     "text": [
      "usage: manage.py sqlmigrate [-h] [--database DATABASE] [--backwards]\n",
      "                            [--version] [-v {0,1,2,3}] [--settings SETTINGS]\n",
      "                            [--pythonpath PYTHONPATH] [--traceback]\n",
      "                            [--no-color] [--force-color] [--skip-checks]\n",
      "                            app_label migration_name\n",
      "manage.py sqlmigrate: error: the following arguments are required: migration_name\n",
      "\u001b[0m"
     ]
    }
   ],
   "source": [
    "!python3 manage.py sqlmigrate movies \n",
    "#show new sql database when migrate "
   ]
  },
  {
   "cell_type": "code",
   "execution_count": 12,
   "metadata": {},
   "outputs": [
    {
     "name": "stdout",
     "output_type": "stream",
     "text": [
      "BEGIN;\n",
      "--\n",
      "-- Create model Genre\n",
      "--\n",
      "CREATE TABLE \"movies_genre\" (\"id\" integer NOT NULL PRIMARY KEY AUTOINCREMENT, \"name\" varchar(255) NOT NULL);\n",
      "--\n",
      "-- Create model Movie\n",
      "--\n",
      "CREATE TABLE \"movies_movie\" (\"id\" integer NOT NULL PRIMARY KEY AUTOINCREMENT, \"title\" varchar(255) NOT NULL, \"release_year\" integer NOT NULL, \"number_in_stock\" integer NOT NULL, \"daily_rate\" real NOT NULL, \"genre_id\" bigint NOT NULL REFERENCES \"movies_genre\" (\"id\") DEFERRABLE INITIALLY DEFERRED);\n",
      "CREATE INDEX \"movies_movie_genre_id_2b557368\" ON \"movies_movie\" (\"genre_id\");\n",
      "COMMIT;\n",
      "\u001b[0m"
     ]
    }
   ],
   "source": [
    "!python3 manage.py sqlmigrate movies 0001"
   ]
  },
  {
   "attachments": {},
   "cell_type": "markdown",
   "metadata": {},
   "source": [
    "# Administration Panel "
   ]
  },
  {
   "attachments": {},
   "cell_type": "markdown",
   "metadata": {},
   "source": [
    "for people to fill in the code "
   ]
  },
  {
   "cell_type": "code",
   "execution_count": 14,
   "metadata": {},
   "outputs": [
    {
     "name": "stdout",
     "output_type": "stream",
     "text": [
      "No changes detected\n",
      "\u001b[0m"
     ]
    }
   ],
   "source": [
    "!python3 manage.py makemigrations "
   ]
  },
  {
   "cell_type": "code",
   "execution_count": 16,
   "metadata": {},
   "outputs": [
    {
     "name": "stdout",
     "output_type": "stream",
     "text": [
      "\u001b[36;1mOperations to perform:\u001b[0m\n",
      "\u001b[1m  Apply all migrations: \u001b[0madmin, auth, contenttypes, movies, sessions\n",
      "\u001b[36;1mRunning migrations:\u001b[0m\n",
      "  Applying movies.0002_movie_date_created...\u001b[32;1m OK\u001b[0m\n",
      "\u001b[0m"
     ]
    }
   ],
   "source": [
    "!python3 manage.py migrate "
   ]
  },
  {
   "cell_type": "code",
   "execution_count": 19,
   "metadata": {},
   "outputs": [
    {
     "name": "stdout",
     "output_type": "stream",
     "text": [
      "Watching for file changes with StatReloader\n",
      "Performing system checks...\n",
      "\n",
      "System check identified no issues (0 silenced).\n",
      "January 20, 2023 - 10:03:24\n",
      "Django version 4.1.5, using settings 'vidly.settings'\n",
      "Starting development server at http://127.0.0.1:8000/\n",
      "Quit the server with CONTROL-C.\n",
      "Not Found: /\n",
      "[20/Jan/2023 10:03:26] \u001b[33m\"GET / HTTP/1.1\" 404 2165\u001b[0m\n",
      "Not Found: /favicon.ico\n",
      "[20/Jan/2023 10:03:26] \u001b[33m\"GET /favicon.ico HTTP/1.1\" 404 2216\u001b[0m\n",
      "[20/Jan/2023 10:03:53] \u001b[32m\"GET /admin HTTP/1.1\" 301 0\u001b[0m\n",
      "[20/Jan/2023 10:03:53] \u001b[32m\"GET /admin/ HTTP/1.1\" 302 0\u001b[0m\n",
      "[20/Jan/2023 10:03:53] \u001b[m\"GET /admin/login/?next=/admin/ HTTP/1.1\" 200 2218\u001b[0m\n",
      "[20/Jan/2023 10:03:53] \u001b[m\"GET /static/admin/css/nav_sidebar.css HTTP/1.1\" 200 2619\u001b[0m\n",
      "[20/Jan/2023 10:03:53] \u001b[m\"GET /static/admin/css/dark_mode.css HTTP/1.1\" 200 796\u001b[0m\n",
      "[20/Jan/2023 10:03:53] \u001b[m\"GET /static/admin/css/login.css HTTP/1.1\" 200 958\u001b[0m\n",
      "[20/Jan/2023 10:03:53] \u001b[m\"GET /static/admin/css/base.css HTTP/1.1\" 200 20344\u001b[0m\n",
      "[20/Jan/2023 10:03:53] \u001b[m\"GET /static/admin/css/responsive.css HTTP/1.1\" 200 18854\u001b[0m\n",
      "[20/Jan/2023 10:03:53] \u001b[m\"GET /static/admin/js/nav_sidebar.js HTTP/1.1\" 200 3763\u001b[0m\n",
      "[20/Jan/2023 10:03:53] \u001b[m\"GET /static/admin/css/fonts.css HTTP/1.1\" 200 423\u001b[0m\n",
      "[20/Jan/2023 10:03:53] \u001b[m\"GET /static/admin/fonts/Roboto-Light-webfont.woff HTTP/1.1\" 200 85692\u001b[0m\n",
      "[20/Jan/2023 10:03:53] \u001b[m\"GET /static/admin/fonts/Roboto-Regular-webfont.woff HTTP/1.1\" 200 85876\u001b[0m\n",
      "Not Found: /\n",
      "[20/Jan/2023 10:03:58] \u001b[33m\"GET / HTTP/1.1\" 404 2165\u001b[0m\n",
      "^C\n",
      "\u001b[0m\u001b[0m"
     ]
    }
   ],
   "source": [
    "!python3 manage.py runserver"
   ]
  },
  {
   "attachments": {},
   "cell_type": "markdown",
   "metadata": {},
   "source": [
    "http://127.0.0.1:8000/ <<< This is server. >>"
   ]
  },
  {
   "attachments": {},
   "cell_type": "markdown",
   "metadata": {},
   "source": [
    "http://127.0.0.1:8000/admin "
   ]
  },
  {
   "attachments": {},
   "cell_type": "markdown",
   "metadata": {},
   "source": [
    "<img src=\"admin.png\" alt=\"admin\" />"
   ]
  },
  {
   "attachments": {},
   "cell_type": "markdown",
   "metadata": {},
   "source": [
    "## Create a super user"
   ]
  },
  {
   "cell_type": "code",
   "execution_count": 1,
   "metadata": {},
   "outputs": [
    {
     "name": "stdout",
     "output_type": "stream",
     "text": [
      "Username (leave blank to use 'jedsadaluengaramsuk'): ^C\n",
      "\u001b[31;1m\n",
      "Operation cancelled.\n",
      "\u001b[0m\u001b[0m"
     ]
    }
   ],
   "source": [
    "!python3 manage.py createsuperuser \n"
   ]
  },
  {
   "attachments": {},
   "cell_type": "markdown",
   "metadata": {},
   "source": [
    "<img src=\"Image/Superuser-1.png\" alt=\"superuser\" />"
   ]
  },
  {
   "attachments": {},
   "cell_type": "markdown",
   "metadata": {},
   "source": [
    "pass: jedsada1"
   ]
  },
  {
   "attachments": {},
   "cell_type": "markdown",
   "metadata": {},
   "source": [
    "GO to the URL (Server) > Login "
   ]
  },
  {
   "cell_type": "code",
   "execution_count": 2,
   "metadata": {},
   "outputs": [
    {
     "name": "stdout",
     "output_type": "stream",
     "text": [
      "Watching for file changes with StatReloader\n",
      "Performing system checks...\n",
      "\n",
      "System check identified no issues (0 silenced).\n",
      "January 21, 2023 - 05:13:37\n",
      "Django version 4.1.5, using settings 'vidly.settings'\n",
      "Starting development server at http://127.0.0.1:8000/\n",
      "Quit the server with CONTROL-C.\n",
      "[21/Jan/2023 05:13:54] \u001b[32m\"GET /admin/ HTTP/1.1\" 302 0\u001b[0m\n",
      "[21/Jan/2023 05:13:54] \u001b[m\"GET /admin/login/?next=/admin/ HTTP/1.1\" 200 2218\u001b[0m\n",
      "[21/Jan/2023 05:13:54] \u001b[36m\"GET /static/admin/css/base.css HTTP/1.1\" 304 0\u001b[0m\n",
      "[21/Jan/2023 05:13:54] \u001b[36m\"GET /static/admin/css/dark_mode.css HTTP/1.1\" 304 0\u001b[0m\n",
      "[21/Jan/2023 05:13:54] \u001b[36m\"GET /static/admin/css/responsive.css HTTP/1.1\" 304 0\u001b[0m\n",
      "[21/Jan/2023 05:13:54] \u001b[36m\"GET /static/admin/css/nav_sidebar.css HTTP/1.1\" 304 0\u001b[0m\n",
      "[21/Jan/2023 05:13:54] \u001b[36m\"GET /static/admin/css/login.css HTTP/1.1\" 304 0\u001b[0m\n",
      "[21/Jan/2023 05:13:54] \u001b[36m\"GET /static/admin/js/nav_sidebar.js HTTP/1.1\" 304 0\u001b[0m\n",
      "[21/Jan/2023 05:13:54] \u001b[36m\"GET /static/admin/css/fonts.css HTTP/1.1\" 304 0\u001b[0m\n",
      "[21/Jan/2023 05:13:55] \u001b[36m\"GET /static/admin/fonts/Roboto-Regular-webfont.woff HTTP/1.1\" 304 0\u001b[0m\n",
      "[21/Jan/2023 05:13:55] \u001b[36m\"GET /static/admin/fonts/Roboto-Light-webfont.woff HTTP/1.1\" 304 0\u001b[0m\n",
      "[21/Jan/2023 05:14:15] \u001b[32m\"POST /admin/login/?next=/admin/ HTTP/1.1\" 302 0\u001b[0m\n",
      "[21/Jan/2023 05:14:15] \u001b[m\"GET /admin/ HTTP/1.1\" 200 3580\u001b[0m\n",
      "[21/Jan/2023 05:14:15] \u001b[m\"GET /static/admin/css/dashboard.css HTTP/1.1\" 200 380\u001b[0m\n",
      "[21/Jan/2023 05:14:15] \u001b[m\"GET /static/admin/img/icon-addlink.svg HTTP/1.1\" 200 331\u001b[0m\n",
      "[21/Jan/2023 05:14:15] \u001b[m\"GET /static/admin/img/icon-changelink.svg HTTP/1.1\" 200 380\u001b[0m\n",
      "[21/Jan/2023 05:14:15] \u001b[m\"GET /static/admin/fonts/Roboto-Bold-webfont.woff HTTP/1.1\" 200 86184\u001b[0m\n",
      "[21/Jan/2023 05:15:48] \u001b[m\"GET /admin/auth/user/ HTTP/1.1\" 200 8463\u001b[0m\n",
      "[21/Jan/2023 05:15:48] \u001b[m\"GET /static/admin/css/changelists.css HTTP/1.1\" 200 6395\u001b[0m\n",
      "[21/Jan/2023 05:15:48] \u001b[m\"GET /static/admin/js/core.js HTTP/1.1\" 200 5698\u001b[0m\n",
      "[21/Jan/2023 05:15:48] \u001b[m\"GET /static/admin/js/jquery.init.js HTTP/1.1\" 200 347\u001b[0m\n",
      "[21/Jan/2023 05:15:48] \u001b[m\"GET /static/admin/js/prepopulate.js HTTP/1.1\" 200 1531\u001b[0m\n",
      "[21/Jan/2023 05:15:48] \u001b[m\"GET /static/admin/js/admin/RelatedObjectLookups.js HTTP/1.1\" 200 8985\u001b[0m\n",
      "[21/Jan/2023 05:15:48] \u001b[m\"GET /static/admin/js/vendor/jquery/jquery.js HTTP/1.1\" 200 288580\u001b[0m\n",
      "[21/Jan/2023 05:15:48] \u001b[m\"GET /static/admin/js/actions.js HTTP/1.1\" 200 7872\u001b[0m\n",
      "[21/Jan/2023 05:15:48] \u001b[m\"GET /admin/jsi18n/ HTTP/1.1\" 200 3343\u001b[0m\n",
      "[21/Jan/2023 05:15:48] \u001b[m\"GET /static/admin/js/urlify.js HTTP/1.1\" 200 7902\u001b[0m\n",
      "[21/Jan/2023 05:15:48] \u001b[m\"GET /static/admin/js/vendor/xregexp/xregexp.js HTTP/1.1\" 200 232381\u001b[0m\n",
      "[21/Jan/2023 05:15:48] \u001b[m\"GET /static/admin/img/search.svg HTTP/1.1\" 200 458\u001b[0m\n",
      "[21/Jan/2023 05:15:48] \u001b[m\"GET /static/admin/js/filters.js HTTP/1.1\" 200 966\u001b[0m\n",
      "[21/Jan/2023 05:15:48] \u001b[m\"GET /static/admin/img/icon-yes.svg HTTP/1.1\" 200 436\u001b[0m\n",
      "[21/Jan/2023 05:15:48] \u001b[m\"GET /static/admin/img/tooltag-add.svg HTTP/1.1\" 200 331\u001b[0m\n",
      "[21/Jan/2023 05:15:48] \u001b[m\"GET /static/admin/img/sorting-icons.svg HTTP/1.1\" 200 1097\u001b[0m\n",
      "/Users/jedsadaluengaramsuk/Documents/GitHub/Django-learning /django-/movies/admin.py changed, reloading.\n",
      "\u001b[0mWatching for file changes with StatReloader\n",
      "Performing system checks...\n",
      "\n",
      "System check identified no issues (0 silenced).\n",
      "January 21, 2023 - 05:26:09\n",
      "Django version 4.1.5, using settings 'vidly.settings'\n",
      "Starting development server at http://127.0.0.1:8000/\n",
      "Quit the server with CONTROL-C.\n",
      "/Users/jedsadaluengaramsuk/Documents/GitHub/Django-learning /django-/movies/admin.py changed, reloading.\n",
      "\u001b[0mWatching for file changes with StatReloader\n",
      "Performing system checks...\n",
      "\n",
      "System check identified no issues (0 silenced).\n",
      "January 21, 2023 - 05:26:15\n",
      "Django version 4.1.5, using settings 'vidly.settings'\n",
      "Starting development server at http://127.0.0.1:8000/\n",
      "Quit the server with CONTROL-C.\n",
      "/Users/jedsadaluengaramsuk/Documents/GitHub/Django-learning /django-/movies/admin.py changed, reloading.\n",
      "\u001b[0mWatching for file changes with StatReloader\n",
      "Performing system checks...\n",
      "\n",
      "System check identified no issues (0 silenced).\n",
      "January 21, 2023 - 05:26:53\n",
      "Django version 4.1.5, using settings 'vidly.settings'\n",
      "Starting development server at http://127.0.0.1:8000/\n",
      "Quit the server with CONTROL-C.\n",
      "[21/Jan/2023 05:27:33] \u001b[m\"GET /admin/auth/user/ HTTP/1.1\" 200 9263\u001b[0m\n",
      "[21/Jan/2023 05:27:33] \u001b[m\"GET /admin/jsi18n/ HTTP/1.1\" 200 3343\u001b[0m\n",
      "[21/Jan/2023 05:27:35] \u001b[m\"GET /admin/movies/genre/ HTTP/1.1\" 200 5659\u001b[0m\n",
      "[21/Jan/2023 05:27:35] \u001b[m\"GET /admin/jsi18n/ HTTP/1.1\" 200 3343\u001b[0m\n",
      "[21/Jan/2023 05:27:37] \u001b[m\"GET /admin/movies/ HTTP/1.1\" 200 3411\u001b[0m\n",
      "^C\n",
      "\u001b[0m\u001b[0m"
     ]
    }
   ],
   "source": [
    "!python3 manage.py runserver"
   ]
  },
  {
   "attachments": {},
   "cell_type": "markdown",
   "metadata": {},
   "source": [
    "http://127.0.0.1:8000/admin"
   ]
  },
  {
   "attachments": {},
   "cell_type": "markdown",
   "metadata": {},
   "source": [
    "<img src=\"Image/login.png\" alt=\"login-1\" />"
   ]
  },
  {
   "attachments": {},
   "cell_type": "markdown",
   "metadata": {},
   "source": [
    "<img src=\"Image/login-2.png\" alt=\"login-2\" />"
   ]
  },
  {
   "attachments": {},
   "cell_type": "markdown",
   "metadata": {},
   "source": [
    "<img src=\"Image/managing-user.png\" alt=\"managing-user\" />"
   ]
  },
  {
   "attachments": {},
   "cell_type": "markdown",
   "metadata": {},
   "source": [
    "## Customize admin interface "
   ]
  },
  {
   "attachments": {},
   "cell_type": "markdown",
   "metadata": {},
   "source": [
    "app folder > admin.py "
   ]
  },
  {
   "attachments": {},
   "cell_type": "markdown",
   "metadata": {},
   "source": [
    "<img src=\"Image/admin-3.png\" alt=\"admin-3\" />"
   ]
  },
  {
   "attachments": {},
   "cell_type": "markdown",
   "metadata": {},
   "source": [
    "<img src=\"Image/admin-4.png\" alt=\"admin-4\" />"
   ]
  },
  {
   "attachments": {},
   "cell_type": "markdown",
   "metadata": {},
   "source": [
    "# Cutomize the admin"
   ]
  },
  {
   "attachments": {},
   "cell_type": "markdown",
   "metadata": {},
   "source": [
    "app folder > model.py"
   ]
  },
  {
   "attachments": {},
   "cell_type": "markdown",
   "metadata": {},
   "source": [
    "<img src=\"Image/admin-5.png\" alt=\"admin-5\" /> "
   ]
  },
  {
   "attachments": {},
   "cell_type": "markdown",
   "metadata": {},
   "source": [
    "I add action gerne but it show Genre object, Therefore, I need to customize it "
   ]
  },
  {
   "attachments": {},
   "cell_type": "markdown",
   "metadata": {},
   "source": [
    "app folder >> models.py"
   ]
  },
  {
   "attachments": {},
   "cell_type": "markdown",
   "metadata": {},
   "source": [
    "<img src=\"Image/admin-6.png\" alt=\"admin-6\" /> "
   ]
  },
  {
   "attachments": {},
   "cell_type": "markdown",
   "metadata": {},
   "source": [
    "Now the actual name is here "
   ]
  },
  {
   "attachments": {},
   "cell_type": "markdown",
   "metadata": {},
   "source": [
    "<img src=\"Image/admin-7.png\" alt=\"admin-7\" /> "
   ]
  },
  {
   "attachments": {},
   "cell_type": "markdown",
   "metadata": {},
   "source": [
    "## Add column "
   ]
  },
  {
   "attachments": {},
   "cell_type": "markdown",
   "metadata": {},
   "source": [
    "App folder > admin.py "
   ]
  },
  {
   "attachments": {},
   "cell_type": "markdown",
   "metadata": {},
   "source": [
    "<img src=\"admin-8.png\" alt=\"admin-8\" /> "
   ]
  },
  {
   "attachments": {},
   "cell_type": "markdown",
   "metadata": {},
   "source": [
    "now on the admin, it will be like this (id and name)"
   ]
  },
  {
   "attachments": {},
   "cell_type": "markdown",
   "metadata": {},
   "source": [
    "<img src=\"Image/admin-9.png\" alt=\"admin-9\" /> "
   ]
  },
  {
   "attachments": {},
   "cell_type": "markdown",
   "metadata": {},
   "source": [
    "## Add object in the application "
   ]
  },
  {
   "attachments": {},
   "cell_type": "markdown",
   "metadata": {},
   "source": [
    "<img src=\"Image/admin-11.png\" alt=\"admin-11\" /> "
   ]
  },
  {
   "attachments": {},
   "cell_type": "markdown",
   "metadata": {},
   "source": [
    "<img src=\"Image/admin-12.png\" alt=\"admin-12\" /> "
   ]
  },
  {
   "attachments": {},
   "cell_type": "markdown",
   "metadata": {},
   "source": [
    "Still a native object therefore, need to change it to string "
   ]
  },
  {
   "attachments": {},
   "cell_type": "markdown",
   "metadata": {},
   "source": [
    "app folder > admin.py"
   ]
  },
  {
   "attachments": {},
   "cell_type": "markdown",
   "metadata": {},
   "source": [
    "now it will be like this "
   ]
  },
  {
   "attachments": {},
   "cell_type": "markdown",
   "metadata": {},
   "source": [
    "<img src=\"Image/admin-14.png\" alt=\"admin-14\" /> "
   ]
  },
  {
   "attachments": {},
   "cell_type": "markdown",
   "metadata": {},
   "source": [
    "<img src=\"Image/admin-15.png\" alt=\"admin-15\" /> "
   ]
  },
  {
   "attachments": {},
   "cell_type": "markdown",
   "metadata": {},
   "source": [
    "# Database Abstraction API"
   ]
  },
  {
   "attachments": {},
   "cell_type": "markdown",
   "metadata": {},
   "source": [
    "models classes (Django) > interact with SQL (database )"
   ]
  },
  {
   "attachments": {},
   "cell_type": "markdown",
   "metadata": {},
   "source": [
    "Therefore you need to fill the right SQL statement "
   ]
  },
  {
   "attachments": {},
   "cell_type": "markdown",
   "metadata": {},
   "source": [
    "app folder > views.py to configue the html"
   ]
  },
  {
   "attachments": {},
   "cell_type": "markdown",
   "metadata": {},
   "source": [
    "<img src=\"api-1.png\" alt=\"api-1\" /> "
   ]
  },
  {
   "attachments": {},
   "cell_type": "markdown",
   "metadata": {},
   "source": [
    "import Movie object from model into views "
   ]
  },
  {
   "attachments": {},
   "cell_type": "markdown",
   "metadata": {},
   "source": [
    "<img src=\"api-4.png\" alt=\"api-4\" /> "
   ]
  },
  {
   "attachments": {},
   "cell_type": "markdown",
   "metadata": {},
   "source": [
    "then the return will be like this (SQL ready)"
   ]
  },
  {
   "attachments": {},
   "cell_type": "markdown",
   "metadata": {},
   "source": [
    "<img src=\"Image/api-2.png\" alt=\"api-2\" /> "
   ]
  },
  {
   "attachments": {},
   "cell_type": "markdown",
   "metadata": {},
   "source": [
    "# Template "
   ]
  },
  {
   "attachments": {},
   "cell_type": "markdown",
   "metadata": {},
   "source": [
    "return HTML content in the view function "
   ]
  },
  {
   "attachments": {},
   "cell_type": "markdown",
   "metadata": {},
   "source": [
    "app folder > views.py "
   ]
  },
  {
   "attachments": {},
   "cell_type": "markdown",
   "metadata": {},
   "source": [
    "first , need to import render function "
   ]
  },
  {
   "cell_type": "code",
   "execution_count": 3,
   "metadata": {},
   "outputs": [],
   "source": [
    "from django.shortcuts import render"
   ]
  },
  {
   "attachments": {},
   "cell_type": "markdown",
   "metadata": {},
   "source": [
    "<img src=\"Image/template-1.png\" alt=\"template-1\" /> "
   ]
  },
  {
   "attachments": {},
   "cell_type": "markdown",
   "metadata": {},
   "source": [
    "Create folder called template in the application "
   ]
  },
  {
   "attachments": {},
   "cell_type": "markdown",
   "metadata": {},
   "source": [
    "Then create HTML file as a template\n"
   ]
  },
  {
   "attachments": {},
   "cell_type": "markdown",
   "metadata": {},
   "source": [
    "<img src=\"Image/template-2.png\" alt=\"template-2\" /> "
   ]
  },
  {
   "attachments": {},
   "cell_type": "markdown",
   "metadata": {},
   "source": [
    "<img src=\"Image/template-3.png\" alt=\"template-3\" /> "
   ]
  },
  {
   "attachments": {},
   "cell_type": "markdown",
   "metadata": {},
   "source": [
    "<img src=\"Image/template-4.png\" alt=\"template-4\" /> "
   ]
  },
  {
   "attachments": {},
   "cell_type": "markdown",
   "metadata": {},
   "source": [
    "now initialized html"
   ]
  },
  {
   "attachments": {},
   "cell_type": "markdown",
   "metadata": {},
   "source": [
    "## Problems with indexing (Django)"
   ]
  },
  {
   "attachments": {},
   "cell_type": "markdown",
   "metadata": {},
   "source": [
    "django try to find the html file by looping through all the install apps. Therefore, use relative path instead of actual file name is better "
   ]
  },
  {
   "attachments": {},
   "cell_type": "markdown",
   "metadata": {},
   "source": [
    "<img src=\"Image/template-5.png\" alt=\"template-5\" /> "
   ]
  },
  {
   "attachments": {},
   "cell_type": "markdown",
   "metadata": {},
   "source": [
    "<img src=\"Image/template-6.png\" alt=\"template-6\" /> "
   ]
  },
  {
   "attachments": {},
   "cell_type": "markdown",
   "metadata": {},
   "source": [
    "# Bootstrap"
   ]
  },
  {
   "attachments": {},
   "cell_type": "markdown",
   "metadata": {},
   "source": [
    "Give style to our application "
   ]
  },
  {
   "attachments": {},
   "cell_type": "markdown",
   "metadata": {},
   "source": [
    "https://getbootstrap.com/docs/5.3/getting-started/introduction/"
   ]
  },
  {
   "attachments": {},
   "cell_type": "markdown",
   "metadata": {},
   "source": [
    "https://getbootstrap.com/docs/5.0/getting-started/introduction/"
   ]
  },
  {
   "attachments": {},
   "cell_type": "markdown",
   "metadata": {},
   "source": [
    "Using the starter template > add base.html in the template file(application folder )"
   ]
  },
  {
   "attachments": {},
   "cell_type": "markdown",
   "metadata": {},
   "source": [
    "Change the title and add your content in body tag "
   ]
  },
  {
   "attachments": {},
   "cell_type": "markdown",
   "metadata": {},
   "source": [
    "<img src=\"Image/bootstrap-1.png\" alt=\"bootstrap-1\" /> "
   ]
  },
  {
   "attachments": {},
   "cell_type": "markdown",
   "metadata": {},
   "source": [
    "now the block will be connect to another html page "
   ]
  },
  {
   "attachments": {},
   "cell_type": "markdown",
   "metadata": {},
   "source": [
    "go to index.html"
   ]
  },
  {
   "attachments": {},
   "cell_type": "markdown",
   "metadata": {},
   "source": [
    "using extend tag (django)"
   ]
  },
  {
   "attachments": {},
   "cell_type": "markdown",
   "metadata": {},
   "source": [
    "then use block tag to sync two html together "
   ]
  },
  {
   "attachments": {},
   "cell_type": "markdown",
   "metadata": {},
   "source": [
    "<img src=\"Image/boot-4.png\" alt=\"boot-4\" /> "
   ]
  },
  {
   "attachments": {},
   "cell_type": "markdown",
   "metadata": {},
   "source": [
    "<img src=\"Image/boot-5.png\" alt=\"boot-5\" /> "
   ]
  },
  {
   "attachments": {},
   "cell_type": "markdown",
   "metadata": {},
   "source": [
    "now the bootstrap is activated "
   ]
  },
  {
   "attachments": {},
   "cell_type": "markdown",
   "metadata": {},
   "source": [
    "# Customizing the Layout"
   ]
  },
  {
   "attachments": {},
   "cell_type": "markdown",
   "metadata": {},
   "source": [
    "Insert a navbar (code in the document) > use as a link one "
   ]
  },
  {
   "cell_type": "code",
   "execution_count": null,
   "metadata": {
    "vscode": {
     "languageId": "html"
    }
   },
   "outputs": [],
   "source": [
    "<!-- As a link -->\n",
    "<nav class=\"navbar navbar-light bg-light\">\n",
    "  <div class=\"container-fluid\">\n",
    "    <a class=\"navbar-brand\" href=\"#\">Navbar</a>\n",
    "  </div>\n",
    "</nav>\n",
    "\n",
    "<!-- As a heading -->\n",
    "<nav class=\"navbar navbar-light bg-light\">\n",
    "  <div class=\"container-fluid\">\n",
    "    <span class=\"navbar-brand mb-0 h1\">Navbar</span>\n",
    "  </div>\n",
    "</nav>"
   ]
  },
  {
   "attachments": {},
   "cell_type": "markdown",
   "metadata": {},
   "source": [
    "<img src=\"Image/add-navbar.png\" alt=\"add-navbar\" /> "
   ]
  },
  {
   "attachments": {},
   "cell_type": "markdown",
   "metadata": {},
   "source": [
    "add navbar to body "
   ]
  },
  {
   "attachments": {},
   "cell_type": "markdown",
   "metadata": {},
   "source": [
    "<img src=\"Image/nav-1.png\" alt=\"nav-1\"/>"
   ]
  },
  {
   "attachments": {},
   "cell_type": "markdown",
   "metadata": {},
   "source": [
    "Now the navbar is there"
   ]
  },
  {
   "attachments": {},
   "cell_type": "markdown",
   "metadata": {},
   "source": [
    "## Container"
   ]
  },
  {
   "attachments": {},
   "cell_type": "markdown",
   "metadata": {},
   "source": [
    "<img src=\"Image/nav-2.png\" alt=\"nav-2\"/>"
   ]
  },
  {
   "attachments": {},
   "cell_type": "markdown",
   "metadata": {},
   "source": [
    "<img src=\"Image/nav-4.png\" alt=\"nav-4\"/>"
   ]
  },
  {
   "attachments": {},
   "cell_type": "markdown",
   "metadata": {},
   "source": [
    "## Customize table "
   ]
  },
  {
   "attachments": {},
   "cell_type": "markdown",
   "metadata": {},
   "source": [
    "<img src=\"Image/nav-5.png\" alt=\"nav-5\"/>"
   ]
  },
  {
   "attachments": {},
   "cell_type": "markdown",
   "metadata": {},
   "source": [
    "add more classes now table will be customized "
   ]
  },
  {
   "attachments": {},
   "cell_type": "markdown",
   "metadata": {},
   "source": [
    "# Sharing template accross multiple apps "
   ]
  },
  {
   "attachments": {},
   "cell_type": "markdown",
   "metadata": {},
   "source": [
    "create new folder (at root ) called template "
   ]
  },
  {
   "attachments": {},
   "cell_type": "markdown",
   "metadata": {},
   "source": [
    "then move base.html to universal template "
   ]
  },
  {
   "attachments": {},
   "cell_type": "markdown",
   "metadata": {},
   "source": [
    "change the relative path of that index base.html to just a name (index.html)"
   ]
  },
  {
   "attachments": {},
   "cell_type": "markdown",
   "metadata": {},
   "source": [
    "<img src=\"Image/uni-1.png\" alt=\"uni-1\"/>"
   ]
  },
  {
   "attachments": {},
   "cell_type": "markdown",
   "metadata": {},
   "source": [
    "go to settings.py of the main app (vidly)"
   ]
  },
  {
   "attachments": {},
   "cell_type": "markdown",
   "metadata": {},
   "source": [
    "reconfigure the template settings "
   ]
  },
  {
   "attachments": {},
   "cell_type": "markdown",
   "metadata": {},
   "source": [
    "add new template folder in DIRS (using os)"
   ]
  },
  {
   "attachments": {},
   "cell_type": "markdown",
   "metadata": {},
   "source": [
    "<img src=Image/uni-2.png\" alt=\"uni-2\"/>"
   ]
  },
  {
   "attachments": {},
   "cell_type": "markdown",
   "metadata": {},
   "source": [
    "now we can use base template everywhere "
   ]
  },
  {
   "attachments": {},
   "cell_type": "markdown",
   "metadata": {},
   "source": [
    "# URL Parameters "
   ]
  },
  {
   "attachments": {},
   "cell_type": "markdown",
   "metadata": {},
   "source": [
    "<img src=\"Image/url-1.png\" alt=\"url-1\"/>"
   ]
  },
  {
   "attachments": {},
   "cell_type": "markdown",
   "metadata": {},
   "source": [
    "Create URL for each items "
   ]
  },
  {
   "attachments": {},
   "cell_type": "markdown",
   "metadata": {},
   "source": [
    "movies/1 = first movie \n",
    "moves/2 = second movie"
   ]
  },
  {
   "attachments": {},
   "cell_type": "markdown",
   "metadata": {},
   "source": [
    "configue in urls.py (movies app) "
   ]
  },
  {
   "attachments": {},
   "cell_type": "markdown",
   "metadata": {},
   "source": [
    "<img src=\"Image/url-2.png\" alt=\"url-2\"/>"
   ]
  },
  {
   "attachments": {},
   "cell_type": "markdown",
   "metadata": {},
   "source": [
    "you also need to create view function (views.detail)"
   ]
  },
  {
   "attachments": {},
   "cell_type": "markdown",
   "metadata": {},
   "source": [
    "<img src=\"Image/url-3.png\" alt=\"url-3\"/>"
   ]
  },
  {
   "attachments": {},
   "cell_type": "markdown",
   "metadata": {},
   "source": [
    "http://127.0.0.1:8000/movies/1 will show "
   ]
  },
  {
   "attachments": {},
   "cell_type": "markdown",
   "metadata": {},
   "source": [
    "<img src=\"Image/url-4.png\" alt=\"url-4\"/>"
   ]
  },
  {
   "attachments": {},
   "cell_type": "markdown",
   "metadata": {},
   "source": [
    "# Getting a Single Object"
   ]
  },
  {
   "attachments": {},
   "cell_type": "markdown",
   "metadata": {},
   "source": [
    "Make a page for items "
   ]
  },
  {
   "attachments": {},
   "cell_type": "markdown",
   "metadata": {},
   "source": [
    "go to views.py (movies)"
   ]
  },
  {
   "attachments": {},
   "cell_type": "markdown",
   "metadata": {},
   "source": [
    "<img src=\"ob-1.png\" alt=\"ob-1\"/>"
   ]
  },
  {
   "attachments": {},
   "cell_type": "markdown",
   "metadata": {},
   "source": [
    "Then create deatil.html in the template folder "
   ]
  },
  {
   "attachments": {},
   "cell_type": "markdown",
   "metadata": {},
   "source": [
    "<img src=\"ob-2.png\" alt=\"ob-2\"/>"
   ]
  },
  {
   "attachments": {},
   "cell_type": "markdown",
   "metadata": {},
   "source": [
    "<img src=\"ob-3.png\" alt=\"ob-3\"/>"
   ]
  },
  {
   "attachments": {},
   "cell_type": "markdown",
   "metadata": {},
   "source": [
    "# Raising 404 Errors "
   ]
  },
  {
   "attachments": {},
   "cell_type": "markdown",
   "metadata": {},
   "source": [
    "return https 404 errors when the key does not exist "
   ]
  },
  {
   "attachments": {},
   "cell_type": "markdown",
   "metadata": {},
   "source": [
    "Go to views.py ( of apps )"
   ]
  },
  {
   "attachments": {},
   "cell_type": "markdown",
   "metadata": {},
   "source": [
    "Create try and except cause"
   ]
  },
  {
   "attachments": {},
   "cell_type": "markdown",
   "metadata": {},
   "source": [
    "<img src=\"404-1.png\" alt=\"404-1\"/>"
   ]
  },
  {
   "attachments": {},
   "cell_type": "markdown",
   "metadata": {},
   "source": [
    "<img src=\"404-2.png\" alt=\"404-2\"/>"
   ]
  },
  {
   "attachments": {},
   "cell_type": "markdown",
   "metadata": {},
   "source": [
    "## Way 2 (Django)"
   ]
  },
  {
   "attachments": {},
   "cell_type": "markdown",
   "metadata": {},
   "source": [
    "views.py > import get object or 404 (getobjector404)"
   ]
  },
  {
   "attachments": {},
   "cell_type": "markdown",
   "metadata": {},
   "source": [
    "<img src=\"Image/404-3.png\" alt=\"404-3\"/>"
   ]
  },
  {
   "attachments": {},
   "cell_type": "markdown",
   "metadata": {},
   "source": [
    "#  Referencing Urls"
   ]
  },
  {
   "attachments": {},
   "cell_type": "markdown",
   "metadata": {},
   "source": [
    "<img src=\"Image/ul-1.png\" alt=\"ul-1\"/>"
   ]
  },
  {
   "attachments": {},
   "cell_type": "markdown",
   "metadata": {},
   "source": [
    "when you click name of the object > show movies details "
   ]
  },
  {
   "attachments": {},
   "cell_type": "markdown",
   "metadata": {},
   "source": [
    "go to index.html\n",
    "add link on movie title "
   ]
  },
  {
   "attachments": {},
   "cell_type": "markdown",
   "metadata": {},
   "source": [
    "<img src=\"Image/ul-2.png\" alt=\"ul-2\"/>"
   ]
  },
  {
   "attachments": {},
   "cell_type": "markdown",
   "metadata": {},
   "source": [
    "now you can click here "
   ]
  },
  {
   "attachments": {},
   "cell_type": "markdown",
   "metadata": {},
   "source": [
    "<img src=\"Image/ul-3.png\" alt=\"ul-3\"/>"
   ]
  },
  {
   "attachments": {},
   "cell_type": "markdown",
   "metadata": {},
   "source": [
    "## Second way >> using Django "
   ]
  },
  {
   "attachments": {},
   "cell_type": "markdown",
   "metadata": {},
   "source": [
    "<img src=\"Image/ul-4.png\" alt=\"ul-4\"/>"
   ]
  },
  {
   "attachments": {},
   "cell_type": "markdown",
   "metadata": {},
   "source": [
    "result will be the same "
   ]
  },
  {
   "attachments": {},
   "cell_type": "markdown",
   "metadata": {},
   "source": [
    "## Third way "
   ]
  },
  {
   "attachments": {},
   "cell_type": "markdown",
   "metadata": {},
   "source": [
    "go to urls.py"
   ]
  },
  {
   "attachments": {},
   "cell_type": "markdown",
   "metadata": {},
   "source": [
    "<img src=\"Image/ul-5.png\" alt=\"ul-5\"/>"
   ]
  },
  {
   "attachments": {},
   "cell_type": "markdown",
   "metadata": {},
   "source": [
    "<img src=\"Image/ul-6.png\" alt=\"ul-6\"/>"
   ]
  },
  {
   "attachments": {},
   "cell_type": "markdown",
   "metadata": {},
   "source": [
    "result wil be the same "
   ]
  },
  {
   "attachments": {},
   "cell_type": "markdown",
   "metadata": {},
   "source": [
    "# Creating APIs "
   ]
  },
  {
   "attachments": {},
   "cell_type": "markdown",
   "metadata": {},
   "source": [
    "django tastypie "
   ]
  },
  {
   "cell_type": "code",
   "execution_count": 1,
   "metadata": {},
   "outputs": [
    {
     "name": "stdout",
     "output_type": "stream",
     "text": [
      "Collecting djangorestframework\n",
      "  Downloading djangorestframework-3.14.0-py3-none-any.whl (1.1 MB)\n",
      "\u001b[K     |████████████████████████████████| 1.1 MB 2.8 MB/s eta 0:00:01\n",
      "\u001b[?25hRequirement already satisfied: pytz in /Users/jedsadaluengaramsuk/opt/anaconda3/lib/python3.8/site-packages (from djangorestframework) (2021.1)\n",
      "Requirement already satisfied: django>=3.0 in /Users/jedsadaluengaramsuk/opt/anaconda3/lib/python3.8/site-packages (from djangorestframework) (4.1.5)\n",
      "Requirement already satisfied: sqlparse>=0.2.2 in /Users/jedsadaluengaramsuk/opt/anaconda3/lib/python3.8/site-packages (from django>=3.0->djangorestframework) (0.4.3)\n",
      "Requirement already satisfied: asgiref<4,>=3.5.2 in /Users/jedsadaluengaramsuk/opt/anaconda3/lib/python3.8/site-packages (from django>=3.0->djangorestframework) (3.6.0)\n",
      "Requirement already satisfied: backports.zoneinfo in /Users/jedsadaluengaramsuk/opt/anaconda3/lib/python3.8/site-packages (from django>=3.0->djangorestframework) (0.2.1)\n",
      "Installing collected packages: djangorestframework\n",
      "Successfully installed djangorestframework-3.14.0\n",
      "Note: you may need to restart the kernel to use updated packages.\n"
     ]
    }
   ],
   "source": [
    "%pip install djangorestframework "
   ]
  },
  {
   "cell_type": "code",
   "execution_count": 8,
   "metadata": {},
   "outputs": [
    {
     "name": "stdout",
     "output_type": "stream",
     "text": [
      "Requirement already satisfied: django-tastypie in /Users/jedsadaluengaramsuk/opt/anaconda3/lib/python3.8/site-packages (0.14.5)\n",
      "Requirement already satisfied: python-mimeparse!=1.5,>=0.1.4 in /Users/jedsadaluengaramsuk/opt/anaconda3/lib/python3.8/site-packages (from django-tastypie) (1.6.0)\n",
      "Requirement already satisfied: python-dateutil!=2.0,>=1.5 in /Users/jedsadaluengaramsuk/opt/anaconda3/lib/python3.8/site-packages (from django-tastypie) (2.8.2)\n",
      "Requirement already satisfied: six>=1.5 in /Users/jedsadaluengaramsuk/opt/anaconda3/lib/python3.8/site-packages (from python-dateutil!=2.0,>=1.5->django-tastypie) (1.15.0)\n",
      "Note: you may need to restart the kernel to use updated packages.\n"
     ]
    }
   ],
   "source": [
    "%pip install django-tastypie\n",
    " "
   ]
  },
  {
   "cell_type": "code",
   "execution_count": 9,
   "metadata": {},
   "outputs": [
    {
     "name": "stdout",
     "output_type": "stream",
     "text": [
      "\u001b[0m"
     ]
    }
   ],
   "source": [
    "# Start api project \n",
    "!python3 manage.py startapp api"
   ]
  },
  {
   "attachments": {},
   "cell_type": "markdown",
   "metadata": {},
   "source": [
    "Now we need to register api at the install app > setting.py of the main app "
   ]
  },
  {
   "attachments": {},
   "cell_type": "markdown",
   "metadata": {},
   "source": [
    "<img src=\"Image/apii-1.png\" alt=\"api-1\"/>"
   ]
  },
  {
   "attachments": {},
   "cell_type": "markdown",
   "metadata": {},
   "source": [
    "This is an automatically created application for apis "
   ]
  },
  {
   "attachments": {},
   "cell_type": "markdown",
   "metadata": {},
   "source": [
    "## Create models for apis "
   ]
  },
  {
   "attachments": {},
   "cell_type": "markdown",
   "metadata": {},
   "source": [
    "models.py (APIs)"
   ]
  },
  {
   "attachments": {},
   "cell_type": "markdown",
   "metadata": {},
   "source": [
    "<img src=\"Image/apii-3.png\" alt=\"api-3\"/>"
   ]
  },
  {
   "attachments": {},
   "cell_type": "markdown",
   "metadata": {},
   "source": [
    "then go to urls.py for the main app "
   ]
  },
  {
   "attachments": {},
   "cell_type": "markdown",
   "metadata": {},
   "source": [
    "<img src=\"Image/apii-4.png\" alt=\"api-4\"/>"
   ]
  },
  {
   "attachments": {},
   "cell_type": "markdown",
   "metadata": {},
   "source": [
    " http://127.0.0.1:8000/api/movies "
   ]
  },
  {
   "attachments": {},
   "cell_type": "markdown",
   "metadata": {},
   "source": [
    "<img src=\"Image/apii-5.png\" alt=\"api-5\"/>"
   ]
  },
  {
   "attachments": {},
   "cell_type": "markdown",
   "metadata": {},
   "source": [
    "## Exclude in api "
   ]
  },
  {
   "attachments": {},
   "cell_type": "markdown",
   "metadata": {},
   "source": [
    "go to models.py of apis "
   ]
  },
  {
   "attachments": {},
   "cell_type": "markdown",
   "metadata": {},
   "source": [
    "<img src=\"Image/apii-6.png\" alt=\"api-6\"/>"
   ]
  },
  {
   "attachments": {},
   "cell_type": "markdown",
   "metadata": {},
   "source": [
    "<img src=\"Image/apii-7.png\" alt=\"api-7\"/>"
   ]
  },
  {
   "attachments": {},
   "cell_type": "markdown",
   "metadata": {},
   "source": [
    "now there's no date-created "
   ]
  },
  {
   "attachments": {},
   "cell_type": "markdown",
   "metadata": {},
   "source": [
    "# Adding the homepage"
   ]
  },
  {
   "attachments": {},
   "cell_type": "markdown",
   "metadata": {},
   "source": [
    "go to urls.py of the main app"
   ]
  },
  {
   "attachments": {},
   "cell_type": "markdown",
   "metadata": {},
   "source": [
    "create views.py for the main app"
   ]
  },
  {
   "attachments": {},
   "cell_type": "markdown",
   "metadata": {},
   "source": [
    "<img src=\"Image/home-1.png\" alt=\"home-1\"/>"
   ]
  },
  {
   "attachments": {},
   "cell_type": "markdown",
   "metadata": {},
   "source": [
    "go to urls.py of the main app"
   ]
  },
  {
   "attachments": {},
   "cell_type": "markdown",
   "metadata": {},
   "source": [
    "<img src=\"Image/home-2.png\" alt=\"home-2\"/>"
   ]
  },
  {
   "attachments": {},
   "cell_type": "markdown",
   "metadata": {},
   "source": [
    "then add home.html to templates folder "
   ]
  },
  {
   "attachments": {},
   "cell_type": "markdown",
   "metadata": {},
   "source": [
    "<img src=\"Image/home-4.png\" alt=\"home-4\"/>"
   ]
  },
  {
   "attachments": {},
   "cell_type": "markdown",
   "metadata": {},
   "source": [
    "test with html to get the right page "
   ]
  },
  {
   "attachments": {},
   "cell_type": "markdown",
   "metadata": {},
   "source": [
    "<img src=\"Image/home-5.png\" alt=\"home-5\"/>"
   ]
  },
  {
   "attachments": {},
   "cell_type": "markdown",
   "metadata": {},
   "source": [
    "now customize home.html to include link"
   ]
  },
  {
   "attachments": {},
   "cell_type": "markdown",
   "metadata": {},
   "source": [
    "<img src=\"Image/home-6.png\" alt=\"home-6\"/>"
   ]
  },
  {
   "attachments": {},
   "cell_type": "markdown",
   "metadata": {},
   "source": [
    "<img src=\"Image/home-7.png\" alt=\"home-7\"/>"
   ]
  },
  {
   "attachments": {},
   "cell_type": "markdown",
   "metadata": {},
   "source": [
    "# Deployment Preparation "
   ]
  },
  {
   "attachments": {},
   "cell_type": "markdown",
   "metadata": {},
   "source": [
    "Install git"
   ]
  },
  {
   "attachments": {},
   "cell_type": "markdown",
   "metadata": {},
   "source": [
    "## Intall Heroku"
   ]
  },
  {
   "attachments": {},
   "cell_type": "markdown",
   "metadata": {},
   "source": [
    "https://www.heroku.com/"
   ]
  },
  {
   "attachments": {},
   "cell_type": "markdown",
   "metadata": {},
   "source": [
    "<img src=\"Image/heroku-1.png\" alt=\"home-7\"/>"
   ]
  },
  {
   "attachments": {},
   "cell_type": "markdown",
   "metadata": {},
   "source": [
    "### Heroku CLI"
   ]
  },
  {
   "attachments": {},
   "cell_type": "markdown",
   "metadata": {},
   "source": [
    "https://devcenter.heroku.com/articles/heroku-cli"
   ]
  },
  {
   "cell_type": "code",
   "execution_count": 2,
   "metadata": {},
   "outputs": [
    {
     "name": "stdout",
     "output_type": "stream",
     "text": [
      "\u001b[1;34m==>\u001b[1;39m Checking for `sudo` access (which may request your password)...\u001b[0m\n",
      "Password:\n",
      "sudo: a password is required\n",
      "Need sudo access on macOS (e.g. the user jedsadaluengaramsuk needs to be an Administrator)!\n"
     ]
    }
   ],
   "source": [
    "# Install home brew \n",
    "\n",
    "!/bin/bash -c \"$(curl -fsSL https://raw.githubusercontent.com/Homebrew/install/HEAD/install.sh)\""
   ]
  },
  {
   "cell_type": "code",
   "execution_count": 9,
   "metadata": {},
   "outputs": [
    {
     "name": "stdout",
     "output_type": "stream",
     "text": [
      "zsh:1: command not found: brew\n"
     ]
    }
   ],
   "source": [
    "!brew tap heroku/brew && brew install heroku\n"
   ]
  },
  {
   "attachments": {},
   "cell_type": "markdown",
   "metadata": {},
   "source": [
    "## Install Gnicorn"
   ]
  },
  {
   "cell_type": "code",
   "execution_count": 2,
   "metadata": {},
   "outputs": [
    {
     "name": "stdout",
     "output_type": "stream",
     "text": [
      "\u001b[31m\u001b[1mWarning\u001b[0m: the environment variable \u001b[1mLANG\u001b[0m is not set!\n",
      "We recommend setting this in \u001b[32m~/.profile\u001b[0m (or equivalent) for proper expected behavior.\n",
      "\u001b[1mCreating a virtualenv for this project...\u001b[0m\n",
      "Pipfile: \u001b[33m\u001b[1m/Users/jedsadaluengaramsuk/Documents/GitHub/Django-learning /django-/Pipfile\u001b[0m\n",
      "\u001b[1mUsing\u001b[0m \u001b[33m\u001b[1m/usr/bin/python3\u001b[0m \u001b[32m(3.9.6)\u001b[0m \u001b[1mto create virtualenv...\u001b[0m\n",
      "\u001b[2K\u001b[32m⠇\u001b[0m Creating virtual environment.....\u001b[36mcreated virtual environment CPython3.9.6.final.0-64 in 648ms\n",
      "  creator CPython3macOsFramework(dest=/Users/jedsadaluengaramsuk/.local/share/virtualenvs/django--LIRP7-CQ, clear=False, no_vcs_ignore=False, global=False)\n",
      "  seeder FromAppData(download=False, pip=bundle, setuptools=bundle, wheel=bundle, via=copy, app_data_dir=/Users/jedsadaluengaramsuk/Library/Application Support/virtualenv)\n",
      "    added seed packages: pip==22.3.1, setuptools==65.6.3, wheel==0.38.4\n",
      "  activators BashActivator,CShellActivator,FishActivator,NushellActivator,PowerShellActivator,PythonActivator\n",
      "\u001b[0m\n",
      "\u001b[2K\u001b[32m⠏\u001b[0m Creating virtual environment...✔ Successfully created virtual environment!\n",
      "\u001b[2K\u001b[32m⠏\u001b[0m Creating virtual environment...\n",
      "\u001b[1A\u001b[2K\u001b[32mVirtualenv location: /Users/jedsadaluengaramsuk/.local/share/virtualenvs/django--LIRP7-CQ\u001b[0m\n",
      "\u001b[1mCreating a Pipfile for this project...\u001b[0m\n",
      "\u001b[32m\u001b[1mInstalling gnicore...\u001b[0m\n",
      "\u001b[2K\u001b[32m⠹\u001b[0m Installing gnicore...\u001b\u001b[1m[\u001b[0m31m\u001b\u001b[1m[\u001b[0m1mError: \u001b\u001b[1m[\u001b[0m0m An error occurred while installing \u001b\u001b[1m[\u001b[0m32mgnicore\u001b\u001b[1m[\u001b[0m0m!\n",
      "Error text: \n",
      "\u001b\u001b[1m[\u001b[0m36mERROR: Could not find a version that satisfies the requirement gnicore \u001b[1m(\u001b[0mfrom\n",
      "versions: none\u001b[1m)\u001b[0m\n",
      "ERROR: No matching distribution found for gnicore\n",
      "\u001b\u001b[1m[\u001b[0m0m\n",
      "✘ Installation Failed\n",
      "\u001b[2K\u001b[32m⠸\u001b[0m Installing gnicore...\n",
      "\u001b[1A\u001b[2K"
     ]
    }
   ],
   "source": [
    "!pipenv install gnicore\n"
   ]
  },
  {
   "attachments": {},
   "cell_type": "markdown",
   "metadata": {},
   "source": [
    "## Procfile "
   ]
  },
  {
   "attachments": {},
   "cell_type": "markdown",
   "metadata": {},
   "source": [
    "add Procfile at root "
   ]
  },
  {
   "attachments": {},
   "cell_type": "markdown",
   "metadata": {},
   "source": [
    "file for heroku"
   ]
  },
  {
   "attachments": {},
   "cell_type": "markdown",
   "metadata": {},
   "source": [
    "<img src=\"Image/heroku-2.png\" alt=\"heroku-2\"/>"
   ]
  },
  {
   "attachments": {},
   "cell_type": "markdown",
   "metadata": {},
   "source": [
    "vidly.wsgi = webserver deployement "
   ]
  },
  {
   "attachments": {},
   "cell_type": "markdown",
   "metadata": {},
   "source": [
    "## Implementing Heroku "
   ]
  },
  {
   "attachments": {},
   "cell_type": "markdown",
   "metadata": {},
   "source": [
    "### Creating static file"
   ]
  },
  {
   "attachments": {},
   "cell_type": "markdown",
   "metadata": {},
   "source": [
    "main app > settings.py "
   ]
  },
  {
   "attachments": {},
   "cell_type": "markdown",
   "metadata": {},
   "source": [
    "<img src=\"Image/heroku-4.png\" alt=\"heroku-4\"/>"
   ]
  },
  {
   "attachments": {},
   "cell_type": "markdown",
   "metadata": {},
   "source": [
    "run collectstatic "
   ]
  },
  {
   "cell_type": "code",
   "execution_count": 3,
   "metadata": {},
   "outputs": [
    {
     "name": "stdout",
     "output_type": "stream",
     "text": [
      "\n",
      "You have requested to collect static files at the destination\n",
      "location as specified in your settings:\n",
      "\n",
      "    /Users/jedsadaluengaramsuk/Documents/GitHub/Django-learning /django-/templates\n",
      "\n",
      "This will overwrite existing files!\n",
      "Are you sure you want to do this?\n",
      "\n",
      "Type 'yes' to continue, or 'no' to cancel: ^C\n",
      "Traceback (most recent call last):\n",
      "  File \"manage.py\", line 22, in <module>\n",
      "    main()\n",
      "  File \"manage.py\", line 18, in main\n",
      "    execute_from_command_line(sys.argv)\n",
      "  File \"/Users/jedsadaluengaramsuk/opt/anaconda3/lib/python3.8/site-packages/django/core/management/__init__.py\", line 446, in execute_from_command_line\n",
      "    utility.execute()\n",
      "  File \"/Users/jedsadaluengaramsuk/opt/anaconda3/lib/python3.8/site-packages/django/core/management/__init__.py\", line 440, in execute\n",
      "    self.fetch_command(subcommand).run_from_argv(self.argv)\n",
      "  File \"/Users/jedsadaluengaramsuk/opt/anaconda3/lib/python3.8/site-packages/django/core/management/base.py\", line 402, in run_from_argv\n",
      "    self.execute(*args, **cmd_options)\n",
      "  File \"/Users/jedsadaluengaramsuk/opt/anaconda3/lib/python3.8/site-packages/django/core/management/base.py\", line 448, in execute\n",
      "    output = self.handle(*args, **options)\n",
      "  File \"/Users/jedsadaluengaramsuk/opt/anaconda3/lib/python3.8/site-packages/django/contrib/staticfiles/management/commands/collectstatic.py\", line 206, in handle\n",
      "    if input(\"\".join(message)) != \"yes\":\n",
      "KeyboardInterrupt\n",
      "\u001b[0m"
     ]
    }
   ],
   "source": [
    "!python3 manage.py collectstatic"
   ]
  },
  {
   "attachments": {},
   "cell_type": "markdown",
   "metadata": {},
   "source": [
    "now all files will be copy to the templates folder "
   ]
  },
  {
   "attachments": {},
   "cell_type": "markdown",
   "metadata": {},
   "source": [
    "<img src=\"Image/heroku-6.png\" alt=\"heroku-6\"/>"
   ]
  },
  {
   "attachments": {},
   "cell_type": "markdown",
   "metadata": {},
   "source": [
    "## Install whitenoise"
   ]
  },
  {
   "attachments": {},
   "cell_type": "markdown",
   "metadata": {},
   "source": [
    "this is for heroku"
   ]
  },
  {
   "cell_type": "code",
   "execution_count": 4,
   "metadata": {},
   "outputs": [
    {
     "name": "stdout",
     "output_type": "stream",
     "text": [
      "\u001b[32m\u001b[1mInstalling whitenoise...\u001b[0m\n",
      "\u001b[2K\u001b[32m⠋\u001b[0m ✔ Installation Succeeded..\n",
      "\u001b[1A\u001b[2K\u001b[1mPipfile.lock not found, creating...\u001b[0m\n",
      "Locking\u001b[0m \u001b[33m[packages]\u001b[0m dependencies...\u001b[0m\n",
      "\u001b[2K\u001b[32m⠇\u001b[0m ✔ Success!dependencies.....\n",
      "\u001b[1A\u001b[2KLocking\u001b[0m \u001b[33m[dev-packages]\u001b[0m dependencies...\u001b[0m\n",
      "\u001b[1mUpdated Pipfile.lock (40deb82533e1aacdb73fb0d6b9ea924523516ad5e69cbe0c6dc292f38c1af3f7)!\u001b[0m\n",
      "\u001b[1mInstalling dependencies from Pipfile.lock (1af3f7)...\u001b[0m\n",
      "To activate this project's virtualenv, run \u001b[33mpipenv shell\u001b[0m.\n",
      "Alternatively, run a command inside the virtualenv with \u001b[33mpipenv run\u001b[0m.\n"
     ]
    }
   ],
   "source": [
    "!pipenv install whitenoise"
   ]
  },
  {
   "attachments": {},
   "cell_type": "markdown",
   "metadata": {},
   "source": [
    "http://whitenoise.evans.io/en/latest/"
   ]
  },
  {
   "attachments": {},
   "cell_type": "markdown",
   "metadata": {},
   "source": [
    "http://whitenoise.evans.io/en/latest/django.html"
   ]
  },
  {
   "attachments": {},
   "cell_type": "markdown",
   "metadata": {},
   "source": [
    "follow the steps "
   ]
  },
  {
   "attachments": {},
   "cell_type": "markdown",
   "metadata": {},
   "source": [
    "add this in settings.py"
   ]
  },
  {
   "attachments": {},
   "cell_type": "markdown",
   "metadata": {},
   "source": [
    "<img src=\"Image/middlewear-1.png\" alt=\"heroku-6\"/>"
   ]
  },
  {
   "attachments": {},
   "cell_type": "markdown",
   "metadata": {},
   "source": [
    "# Deployement Process "
   ]
  },
  {
   "attachments": {},
   "cell_type": "markdown",
   "metadata": {},
   "source": [
    "<img src=\"Image/deploy-1.png\" alt=\"deploy-1\"/>"
   ]
  },
  {
   "attachments": {},
   "cell_type": "markdown",
   "metadata": {},
   "source": [
    "push from local to Heroku git "
   ]
  },
  {
   "attachments": {},
   "cell_type": "markdown",
   "metadata": {},
   "source": [
    "## Git test "
   ]
  },
  {
   "cell_type": "code",
   "execution_count": 5,
   "metadata": {},
   "outputs": [
    {
     "name": "stdout",
     "output_type": "stream",
     "text": [
      "Reinitialized existing Git repository in /Users/jedsadaluengaramsuk/Documents/GitHub/Django-learning /django-/.git/\n"
     ]
    }
   ],
   "source": [
    "#Stage git \n",
    "!git init"
   ]
  },
  {
   "cell_type": "code",
   "execution_count": 6,
   "metadata": {},
   "outputs": [],
   "source": [
    "!git add ."
   ]
  },
  {
   "attachments": {},
   "cell_type": "markdown",
   "metadata": {},
   "source": [
    "add the staging "
   ]
  },
  {
   "cell_type": "code",
   "execution_count": 7,
   "metadata": {},
   "outputs": [
    {
     "name": "stdout",
     "output_type": "stream",
     "text": [
      "[main 98e3bc1] test\n",
      " 151 files changed, 30670 insertions(+), 2 deletions(-)\n",
      " create mode 100644 Image/deploy-1.png\n",
      " create mode 100644 Image/heroku-2.png\n",
      " create mode 100644 Image/heroku-4.png\n",
      " create mode 100644 Image/heroku-6.png\n",
      " create mode 100644 Image/middlewear-1.png\n",
      " create mode 100644 Pipfile\n",
      " create mode 100644 Pipfile.lock\n",
      " create mode 100644 Procfile\n",
      " create mode 100644 api/__pycache__/__init__.cpython-38.pyc\n",
      " create mode 100644 api/__pycache__/admin.cpython-38.pyc\n",
      " create mode 100644 api/__pycache__/apps.cpython-38.pyc\n",
      " create mode 100644 api/__pycache__/models.cpython-38.pyc\n",
      " create mode 100644 templates/admin/css/autocomplete.css\n",
      " create mode 100644 templates/admin/css/base.css\n",
      " create mode 100644 templates/admin/css/changelists.css\n",
      " create mode 100644 templates/admin/css/dark_mode.css\n",
      " create mode 100644 templates/admin/css/dashboard.css\n",
      " create mode 100644 templates/admin/css/fonts.css\n",
      " create mode 100644 templates/admin/css/forms.css\n",
      " create mode 100644 templates/admin/css/login.css\n",
      " create mode 100644 templates/admin/css/nav_sidebar.css\n",
      " create mode 100644 templates/admin/css/responsive.css\n",
      " create mode 100644 templates/admin/css/responsive_rtl.css\n",
      " create mode 100644 templates/admin/css/rtl.css\n",
      " create mode 100644 templates/admin/css/vendor/select2/LICENSE-SELECT2.md\n",
      " create mode 100644 templates/admin/css/vendor/select2/select2.css\n",
      " create mode 100644 templates/admin/css/vendor/select2/select2.min.css\n",
      " create mode 100644 templates/admin/css/widgets.css\n",
      " create mode 100644 templates/admin/fonts/LICENSE.txt\n",
      " create mode 100644 templates/admin/fonts/README.txt\n",
      " create mode 100644 templates/admin/fonts/Roboto-Bold-webfont.woff\n",
      " create mode 100644 templates/admin/fonts/Roboto-Light-webfont.woff\n",
      " create mode 100644 templates/admin/fonts/Roboto-Regular-webfont.woff\n",
      " create mode 100644 templates/admin/img/LICENSE\n",
      " create mode 100644 templates/admin/img/README.txt\n",
      " create mode 100644 templates/admin/img/calendar-icons.svg\n",
      " create mode 100644 templates/admin/img/gis/move_vertex_off.svg\n",
      " create mode 100644 templates/admin/img/gis/move_vertex_on.svg\n",
      " create mode 100644 templates/admin/img/icon-addlink.svg\n",
      " create mode 100644 templates/admin/img/icon-alert.svg\n",
      " create mode 100644 templates/admin/img/icon-calendar.svg\n",
      " create mode 100644 templates/admin/img/icon-changelink.svg\n",
      " create mode 100644 templates/admin/img/icon-clock.svg\n",
      " create mode 100644 templates/admin/img/icon-deletelink.svg\n",
      " create mode 100644 templates/admin/img/icon-no.svg\n",
      " create mode 100644 templates/admin/img/icon-unknown-alt.svg\n",
      " create mode 100644 templates/admin/img/icon-unknown.svg\n",
      " create mode 100644 templates/admin/img/icon-viewlink.svg\n",
      " create mode 100644 templates/admin/img/icon-yes.svg\n",
      " create mode 100644 templates/admin/img/inline-delete.svg\n",
      " create mode 100644 templates/admin/img/search.svg\n",
      " create mode 100644 templates/admin/img/selector-icons.svg\n",
      " create mode 100644 templates/admin/img/sorting-icons.svg\n",
      " create mode 100644 templates/admin/img/tooltag-add.svg\n",
      " create mode 100644 templates/admin/img/tooltag-arrowright.svg\n",
      " create mode 100644 templates/admin/js/SelectBox.js\n",
      " create mode 100644 templates/admin/js/SelectFilter2.js\n",
      " create mode 100644 templates/admin/js/actions.js\n",
      " create mode 100644 templates/admin/js/admin/DateTimeShortcuts.js\n",
      " create mode 100644 templates/admin/js/admin/RelatedObjectLookups.js\n",
      " create mode 100644 templates/admin/js/autocomplete.js\n",
      " create mode 100644 templates/admin/js/calendar.js\n",
      " create mode 100644 templates/admin/js/cancel.js\n",
      " create mode 100644 templates/admin/js/change_form.js\n",
      " create mode 100644 templates/admin/js/collapse.js\n",
      " create mode 100644 templates/admin/js/core.js\n",
      " create mode 100644 templates/admin/js/filters.js\n",
      " create mode 100644 templates/admin/js/inlines.js\n",
      " create mode 100644 templates/admin/js/jquery.init.js\n",
      " create mode 100644 templates/admin/js/nav_sidebar.js\n",
      " create mode 100644 templates/admin/js/popup_response.js\n",
      " create mode 100644 templates/admin/js/prepopulate.js\n",
      " create mode 100644 templates/admin/js/prepopulate_init.js\n",
      " create mode 100644 templates/admin/js/urlify.js\n",
      " create mode 100644 templates/admin/js/vendor/jquery/LICENSE.txt\n",
      " create mode 100644 templates/admin/js/vendor/jquery/jquery.js\n",
      " create mode 100644 templates/admin/js/vendor/jquery/jquery.min.js\n",
      " create mode 100644 templates/admin/js/vendor/select2/LICENSE.md\n",
      " create mode 100644 templates/admin/js/vendor/select2/i18n/af.js\n",
      " create mode 100644 templates/admin/js/vendor/select2/i18n/ar.js\n",
      " create mode 100644 templates/admin/js/vendor/select2/i18n/az.js\n",
      " create mode 100644 templates/admin/js/vendor/select2/i18n/bg.js\n",
      " create mode 100644 templates/admin/js/vendor/select2/i18n/bn.js\n",
      " create mode 100644 templates/admin/js/vendor/select2/i18n/bs.js\n",
      " create mode 100644 templates/admin/js/vendor/select2/i18n/ca.js\n",
      " create mode 100644 templates/admin/js/vendor/select2/i18n/cs.js\n",
      " create mode 100644 templates/admin/js/vendor/select2/i18n/da.js\n",
      " create mode 100644 templates/admin/js/vendor/select2/i18n/de.js\n",
      " create mode 100644 templates/admin/js/vendor/select2/i18n/dsb.js\n",
      " create mode 100644 templates/admin/js/vendor/select2/i18n/el.js\n",
      " create mode 100644 templates/admin/js/vendor/select2/i18n/en.js\n",
      " create mode 100644 templates/admin/js/vendor/select2/i18n/es.js\n",
      " create mode 100644 templates/admin/js/vendor/select2/i18n/et.js\n",
      " create mode 100644 templates/admin/js/vendor/select2/i18n/eu.js\n",
      " create mode 100644 templates/admin/js/vendor/select2/i18n/fa.js\n",
      " create mode 100644 templates/admin/js/vendor/select2/i18n/fi.js\n",
      " create mode 100644 templates/admin/js/vendor/select2/i18n/fr.js\n",
      " create mode 100644 templates/admin/js/vendor/select2/i18n/gl.js\n",
      " create mode 100644 templates/admin/js/vendor/select2/i18n/he.js\n",
      " create mode 100644 templates/admin/js/vendor/select2/i18n/hi.js\n",
      " create mode 100644 templates/admin/js/vendor/select2/i18n/hr.js\n",
      " create mode 100644 templates/admin/js/vendor/select2/i18n/hsb.js\n",
      " create mode 100644 templates/admin/js/vendor/select2/i18n/hu.js\n",
      " create mode 100644 templates/admin/js/vendor/select2/i18n/hy.js\n",
      " create mode 100644 templates/admin/js/vendor/select2/i18n/id.js\n",
      " create mode 100644 templates/admin/js/vendor/select2/i18n/is.js\n",
      " create mode 100644 templates/admin/js/vendor/select2/i18n/it.js\n",
      " create mode 100644 templates/admin/js/vendor/select2/i18n/ja.js\n",
      " create mode 100644 templates/admin/js/vendor/select2/i18n/ka.js\n",
      " create mode 100644 templates/admin/js/vendor/select2/i18n/km.js\n",
      " create mode 100644 templates/admin/js/vendor/select2/i18n/ko.js\n",
      " create mode 100644 templates/admin/js/vendor/select2/i18n/lt.js\n",
      " create mode 100644 templates/admin/js/vendor/select2/i18n/lv.js\n",
      " create mode 100644 templates/admin/js/vendor/select2/i18n/mk.js\n",
      " create mode 100644 templates/admin/js/vendor/select2/i18n/ms.js\n",
      " create mode 100644 templates/admin/js/vendor/select2/i18n/nb.js\n",
      " create mode 100644 templates/admin/js/vendor/select2/i18n/ne.js\n",
      " create mode 100644 templates/admin/js/vendor/select2/i18n/nl.js\n",
      " create mode 100644 templates/admin/js/vendor/select2/i18n/pl.js\n",
      " create mode 100644 templates/admin/js/vendor/select2/i18n/ps.js\n",
      " create mode 100644 templates/admin/js/vendor/select2/i18n/pt-BR.js\n",
      " create mode 100644 templates/admin/js/vendor/select2/i18n/pt.js\n",
      " create mode 100644 templates/admin/js/vendor/select2/i18n/ro.js\n",
      " create mode 100644 templates/admin/js/vendor/select2/i18n/ru.js\n",
      " create mode 100644 templates/admin/js/vendor/select2/i18n/sk.js\n",
      " create mode 100644 templates/admin/js/vendor/select2/i18n/sl.js\n",
      " create mode 100644 templates/admin/js/vendor/select2/i18n/sq.js\n",
      " create mode 100644 templates/admin/js/vendor/select2/i18n/sr-Cyrl.js\n",
      " create mode 100644 templates/admin/js/vendor/select2/i18n/sr.js\n",
      " create mode 100644 templates/admin/js/vendor/select2/i18n/sv.js\n",
      " create mode 100644 templates/admin/js/vendor/select2/i18n/th.js\n",
      " create mode 100644 templates/admin/js/vendor/select2/i18n/tk.js\n",
      " create mode 100644 templates/admin/js/vendor/select2/i18n/tr.js\n",
      " create mode 100644 templates/admin/js/vendor/select2/i18n/uk.js\n",
      " create mode 100644 templates/admin/js/vendor/select2/i18n/vi.js\n",
      " create mode 100644 templates/admin/js/vendor/select2/i18n/zh-CN.js\n",
      " create mode 100644 templates/admin/js/vendor/select2/i18n/zh-TW.js\n",
      " create mode 100644 templates/admin/js/vendor/select2/select2.full.js\n",
      " create mode 100644 templates/admin/js/vendor/select2/select2.full.min.js\n",
      " create mode 100644 templates/admin/js/vendor/xregexp/LICENSE.txt\n",
      " create mode 100644 templates/admin/js/vendor/xregexp/xregexp.js\n",
      " create mode 100644 templates/admin/js/vendor/xregexp/xregexp.min.js\n"
     ]
    }
   ],
   "source": [
    "!git commit -m test "
   ]
  },
  {
   "attachments": {},
   "cell_type": "markdown",
   "metadata": {},
   "source": [
    "## Heroku push "
   ]
  },
  {
   "cell_type": "code",
   "execution_count": 1,
   "metadata": {},
   "outputs": [
    {
     "name": "stdout",
     "output_type": "stream",
     "text": [
      "zsh:1: command not found: heroku\n"
     ]
    }
   ],
   "source": [
    "!heroku login "
   ]
  },
  {
   "attachments": {},
   "cell_type": "markdown",
   "metadata": {},
   "source": [
    "** everytime you do you need to install brew and use heroku again "
   ]
  },
  {
   "attachments": {},
   "cell_type": "markdown",
   "metadata": {},
   "source": [
    "Install brew https://stackoverflow.com/questions/66666134/how-to-install-homebrew-on-m1-mac"
   ]
  },
  {
   "attachments": {},
   "cell_type": "markdown",
   "metadata": {},
   "source": [
    "login to heroku "
   ]
  },
  {
   "cell_type": "code",
   "execution_count": null,
   "metadata": {},
   "outputs": [],
   "source": [
    "!heroku login "
   ]
  },
  {
   "attachments": {},
   "cell_type": "markdown",
   "metadata": {},
   "source": [
    "Finished "
   ]
  },
  {
   "cell_type": "code",
   "execution_count": 1,
   "metadata": {},
   "outputs": [
    {
     "name": "stdout",
     "output_type": "stream",
     "text": [
      "zsh:1: command not found: heroku\n"
     ]
    }
   ],
   "source": [
    "!heroku create "
   ]
  },
  {
   "attachments": {},
   "cell_type": "markdown",
   "metadata": {},
   "source": [
    "<img src=\"Image/heroku-5.png\" alt=\"heroku-5\"/>"
   ]
  },
  {
   "attachments": {},
   "cell_type": "markdown",
   "metadata": {},
   "source": [
    "need to add card details "
   ]
  },
  {
   "attachments": {},
   "cell_type": "markdown",
   "metadata": {},
   "source": [
    "<img src=\"Image/heroku-7.png\" alt=\"heroku-7\"/>"
   ]
  },
  {
   "attachments": {},
   "cell_type": "markdown",
   "metadata": {},
   "source": [
    "https://arcane-reaches-72002.herokuapp.com/ | https://git.heroku.com/arcane-reaches-72002.git"
   ]
  },
  {
   "attachments": {},
   "cell_type": "markdown",
   "metadata": {},
   "source": [
    "First link will be this "
   ]
  },
  {
   "attachments": {},
   "cell_type": "markdown",
   "metadata": {},
   "source": [
    "<img src=\"Image/heroku-8.png\" alt=\"heroku-8\"/>"
   ]
  },
  {
   "attachments": {},
   "cell_type": "markdown",
   "metadata": {},
   "source": [
    "## Push files to heroku "
   ]
  },
  {
   "cell_type": "code",
   "execution_count": 3,
   "metadata": {},
   "outputs": [
    {
     "name": "stdout",
     "output_type": "stream",
     "text": [
      "Enumerating objects: 410, done.\n",
      "Counting objects: 100% (410/410), done.\n",
      "Delta compression using up to 8 threads\n",
      "Compressing objects: 100% (341/341), done.\n",
      "Writing objects: 100% (410/410), 9.12 MiB | 1.30 MiB/s, done.\n",
      "Total 410 (delta 119), reused 197 (delta 58), pack-reused 0\n",
      "remote: Compressing source files... done.\u001b[K\n",
      "remote: Building source:\u001b[K\n",
      "remote: \n",
      "remote: -----> Building on the Heroku-22 stack\u001b[K\n",
      "remote: -----> Determining which buildpack to use for this app\u001b[K\n",
      "remote: -----> Python app detected\u001b[K\n",
      "remote: -----> Using Python version specified in Pipfile.lock\u001b[K\n",
      "remote: -----> Installing python-3.9.16\u001b[K\n",
      "remote: -----> Installing pip 22.3.1, setuptools 63.4.3 and wheel 0.37.1\u001b[K\n",
      "remote: -----> Installing dependencies with Pipenv 2020.11.15\u001b[K\n",
      "remote:        Installing dependencies from Pipfile.lock (1af3f7)...\u001b[K\n",
      "remote: -----> Installing SQLite3\u001b[K\n",
      "remote: -----> Discovering process types\u001b[K\n",
      "remote:        Procfile declares types -> web\u001b[K\n",
      "remote: \n",
      "remote: -----> Compressing...\u001b[K\n",
      "remote:        Done: 48.1M\u001b[K\n",
      "remote: -----> Launching...\u001b[K\n",
      "remote:        Released v3\u001b[K\n",
      "remote:        https://arcane-reaches-72002.herokuapp.com/ deployed to Heroku\u001b[K\n",
      "remote: \n",
      "remote: Verifying deploy... done.\u001b[K\n",
      "To https://git.heroku.com/arcane-reaches-72002.git\n",
      " * [new branch]      main -> main\n"
     ]
    }
   ],
   "source": [
    "!git push heroku main"
   ]
  },
  {
   "attachments": {},
   "cell_type": "markdown",
   "metadata": {},
   "source": [
    "Tell heroku to use web-server "
   ]
  },
  {
   "attachments": {},
   "cell_type": "markdown",
   "metadata": {},
   "source": [
    "https://devcenter.heroku.com/articles/scaling"
   ]
  },
  {
   "cell_type": "code",
   "execution_count": 4,
   "metadata": {},
   "outputs": [
    {
     "name": "stdout",
     "output_type": "stream",
     "text": [
      "zsh:1: command not found: heroku\n"
     ]
    }
   ],
   "source": [
    "#After configure heroku \n",
    "heroku ps:scale web=2"
   ]
  },
  {
   "attachments": {},
   "cell_type": "markdown",
   "metadata": {},
   "source": [
    "<img src=\"Image/heroku-10.png\" alt=\"heroku-10\"/>"
   ]
  },
  {
   "cell_type": "code",
   "execution_count": null,
   "metadata": {},
   "outputs": [],
   "source": [
    "!heroku open "
   ]
  },
  {
   "attachments": {},
   "cell_type": "markdown",
   "metadata": {},
   "source": [
    "<img src=\"Image/heroku-11.png\" alt=\"heroku-11\"/>"
   ]
  },
  {
   "attachments": {},
   "cell_type": "markdown",
   "metadata": {},
   "source": [
    "still need to fix bug "
   ]
  },
  {
   "attachments": {},
   "cell_type": "markdown",
   "metadata": {},
   "source": [
    "open up settings.py "
   ]
  },
  {
   "attachments": {},
   "cell_type": "markdown",
   "metadata": {},
   "source": [
    "go to ALLOWED_HOST "
   ]
  },
  {
   "attachments": {},
   "cell_type": "markdown",
   "metadata": {},
   "source": [
    "<img src=\"Image/heroku-14.png\" alt=\"heroku-14\"/>"
   ]
  },
  {
   "attachments": {},
   "cell_type": "markdown",
   "metadata": {},
   "source": [
    "fixing and push to git "
   ]
  },
  {
   "cell_type": "code",
   "execution_count": null,
   "metadata": {},
   "outputs": [],
   "source": [
    "!git add . "
   ]
  },
  {
   "cell_type": "code",
   "execution_count": null,
   "metadata": {},
   "outputs": [],
   "source": [
    "!git commit -m 'fixing '"
   ]
  },
  {
   "cell_type": "code",
   "execution_count": null,
   "metadata": {},
   "outputs": [],
   "source": [
    "!git push heroku main"
   ]
  },
  {
   "attachments": {},
   "cell_type": "markdown",
   "metadata": {},
   "source": [
    "add this to heroku (buildpack)"
   ]
  },
  {
   "attachments": {},
   "cell_type": "markdown",
   "metadata": {},
   "source": [
    "<img src=\"Image/heroku-20.png\" alt=\"heroku-20\"/>"
   ]
  },
  {
   "attachments": {},
   "cell_type": "markdown",
   "metadata": {},
   "source": [
    "https://elements.heroku.com/buildpacks/benoitc/gunicorn"
   ]
  },
  {
   "attachments": {},
   "cell_type": "markdown",
   "metadata": {},
   "source": [
    "# Summary "
   ]
  },
  {
   "attachments": {},
   "cell_type": "markdown",
   "metadata": {},
   "source": [
    "OK I can do every step except deployment. "
   ]
  },
  {
   "attachments": {},
   "cell_type": "markdown",
   "metadata": {},
   "source": [
    "You can look and follow turtorial later. Now I'm done. Thank you!"
   ]
  }
 ],
 "metadata": {
  "kernelspec": {
   "display_name": "base",
   "language": "python",
   "name": "python3"
  },
  "language_info": {
   "codemirror_mode": {
    "name": "ipython",
    "version": 3
   },
   "file_extension": ".py",
   "mimetype": "text/x-python",
   "name": "python",
   "nbconvert_exporter": "python",
   "pygments_lexer": "ipython3",
   "version": "3.8.8"
  },
  "orig_nbformat": 4,
  "vscode": {
   "interpreter": {
    "hash": "40e7d4bbb70552d2dbfc01d9c48a1b023097c4d41713c0cfb46a3636277fb6a3"
   }
  }
 },
 "nbformat": 4,
 "nbformat_minor": 2
}
