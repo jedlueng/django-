{
 "cells": [
  {
   "attachments": {},
   "cell_type": "markdown",
   "metadata": {},
   "source": [
    "# Jedlueng Django Learning 17 January 2023 "
   ]
  },
  {
   "attachments": {},
   "cell_type": "markdown",
   "metadata": {},
   "source": [
    "## Install Django and environment "
   ]
  },
  {
   "attachments": {},
   "cell_type": "markdown",
   "metadata": {},
   "source": [
    "Terminal \n",
    "\n",
    "#Make directory \n",
    "\n",
    "mkdir vidly \n",
    "\n",
    "#Go in vidly directory \n",
    "\n",
    "cd vidly \n",
    "\n",
    "#Install Django \n",
    "pipenv install django==2.1 \n",
    "\n",
    "#or \n",
    "pip install django "
   ]
  },
  {
   "attachments": {},
   "cell_type": "markdown",
   "metadata": {},
   "source": [
    "## Start Django Project "
   ]
  },
  {
   "cell_type": "code",
   "execution_count": 2,
   "metadata": {},
   "outputs": [
    {
     "name": "stdout",
     "output_type": "stream",
     "text": [
      "Collecting django\n",
      "  Using cached Django-4.1.5-py3-none-any.whl (8.1 MB)\n",
      "Collecting asgiref<4,>=3.5.2\n",
      "  Using cached asgiref-3.6.0-py3-none-any.whl (23 kB)\n",
      "Collecting backports.zoneinfo\n",
      "  Downloading backports.zoneinfo-0.2.1-cp38-cp38-macosx_10_14_x86_64.whl (35 kB)\n",
      "Collecting sqlparse>=0.2.2\n",
      "  Using cached sqlparse-0.4.3-py3-none-any.whl (42 kB)\n",
      "Installing collected packages: sqlparse, backports.zoneinfo, asgiref, django\n",
      "Successfully installed asgiref-3.6.0 backports.zoneinfo-0.2.1 django-4.1.5 sqlparse-0.4.3\n"
     ]
    }
   ],
   "source": [
    "!pip install django "
   ]
  },
  {
   "cell_type": "code",
   "execution_count": 3,
   "metadata": {},
   "outputs": [],
   "source": [
    "import django"
   ]
  },
  {
   "cell_type": "code",
   "execution_count": 4,
   "metadata": {},
   "outputs": [
    {
     "name": "stdout",
     "output_type": "stream",
     "text": [
      "\u001b[0m"
     ]
    }
   ],
   "source": [
    "# Start a project \n",
    "!django-admin startproject vidly . \n",
    "#This will create files in admin "
   ]
  },
  {
   "attachments": {},
   "cell_type": "markdown",
   "metadata": {},
   "source": [
    "<img src=\"django-admin.png\" alt=\"django-admin\" />\n"
   ]
  },
  {
   "cell_type": "code",
   "execution_count": null,
   "metadata": {},
   "outputs": [],
   "source": [
    "#manage.py == operation for the website \n",
    "\n",
    "#Image above is a package for our projects "
   ]
  },
  {
   "attachments": {},
   "cell_type": "markdown",
   "metadata": {},
   "source": [
    "### Run a server "
   ]
  },
  {
   "cell_type": "code",
   "execution_count": 11,
   "metadata": {},
   "outputs": [
    {
     "name": "stdout",
     "output_type": "stream",
     "text": [
      "Watching for file changes with StatReloader\n",
      "Performing system checks...\n",
      "\n",
      "System check identified no issues (0 silenced).\n",
      "\u001b[31m\n",
      "You have 18 unapplied migration(s). Your project may not work properly until you apply the migrations for app(s): admin, auth, contenttypes, sessions.\u001b[0m\n",
      "\u001b[31mRun 'python manage.py migrate' to apply them.\u001b[0m\n",
      "January 18, 2023 - 12:22:39\n",
      "Django version 4.1.5, using settings 'vidly.settings'\n",
      "Starting development server at http://127.0.0.1:8000/\n",
      "Quit the server with CONTROL-C.\n",
      "^C\n",
      "\u001b[0m\u001b[0m"
     ]
    }
   ],
   "source": [
    "!python3 manage.py runserver "
   ]
  },
  {
   "attachments": {},
   "cell_type": "markdown",
   "metadata": {},
   "source": [
    "# First Django Application "
   ]
  },
  {
   "attachments": {},
   "cell_type": "markdown",
   "metadata": {},
   "source": [
    "<img src=\"/Users/jedsadaluengaramsuk/Documents/GitHub/Django-learning /Django-project.png\" alt=\"Django-project\" />"
   ]
  },
  {
   "attachments": {},
   "cell_type": "markdown",
   "metadata": {},
   "source": [
    "Django project consist of many application but working under one banner "
   ]
  },
  {
   "attachments": {},
   "cell_type": "markdown",
   "metadata": {},
   "source": [
    "<img src=\"/Users/jedsadaluengaramsuk/Documents/GitHub/Django-learning /Project-2.png\" alt=\"Django-project\" />"
   ]
  },
  {
   "attachments": {},
   "cell_type": "markdown",
   "metadata": {},
   "source": [
    "## Create a new application "
   ]
  },
  {
   "cell_type": "code",
   "execution_count": 12,
   "metadata": {},
   "outputs": [
    {
     "name": "stdout",
     "output_type": "stream",
     "text": [
      "\u001b[0m"
     ]
    }
   ],
   "source": [
    "!python3 manage.py startapp movies \n",
    "#New directory will be created call movies \n",
    "#This is a new apps "
   ]
  },
  {
   "attachments": {},
   "cell_type": "markdown",
   "metadata": {},
   "source": [
    "<img src=\"Move.png\" alt=\"Django-project\" />"
   ]
  },
  {
   "attachments": {},
   "cell_type": "markdown",
   "metadata": {},
   "source": [
    "## View function"
   ]
  },
  {
   "attachments": {},
   "cell_type": "markdown",
   "metadata": {},
   "source": [
    "<img src=\"/Users/jedsadaluengaramsuk/Documents/GitHub/Django-learning /Screenshot 2023-01-18 at 19.39.17.png\" alt=\"Django-project\" />"
   ]
  },
  {
   "attachments": {},
   "cell_type": "markdown",
   "metadata": {},
   "source": [
    "view the app\n"
   ]
  },
  {
   "attachments": {},
   "cell_type": "markdown",
   "metadata": {},
   "source": [
    "<img src=\"View-2.png\" alt=\"Django-project\" />"
   ]
  }
 ],
 "metadata": {
  "kernelspec": {
   "display_name": "base",
   "language": "python",
   "name": "python3"
  },
  "language_info": {
   "codemirror_mode": {
    "name": "ipython",
    "version": 3
   },
   "file_extension": ".py",
   "mimetype": "text/x-python",
   "name": "python",
   "nbconvert_exporter": "python",
   "pygments_lexer": "ipython3",
   "version": "3.8.8"
  },
  "orig_nbformat": 4,
  "vscode": {
   "interpreter": {
    "hash": "40e7d4bbb70552d2dbfc01d9c48a1b023097c4d41713c0cfb46a3636277fb6a3"
   }
  }
 },
 "nbformat": 4,
 "nbformat_minor": 2
}
